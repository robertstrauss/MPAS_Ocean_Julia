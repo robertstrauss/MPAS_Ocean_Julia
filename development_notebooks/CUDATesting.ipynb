{
 "cells": [
  {
   "cell_type": "code",
   "execution_count": 7,
   "metadata": {},
   "outputs": [],
   "source": [
    "using CUDA, CUDAKernels"
   ]
  },
  {
   "cell_type": "code",
   "execution_count": 8,
   "metadata": {},
   "outputs": [
    {
     "data": {
      "text/plain": [
       "multiplyAddArrayElements! (generic function with 1 method)"
      ]
     },
     "execution_count": 8,
     "metadata": {},
     "output_type": "execute_result"
    }
   ],
   "source": [
    "function multiplyAddArrayElements!(out, a, b, c)\n",
    "    I = threadIdx().x\n",
    "    out[I] = a[I] * b[I] + c[I]\n",
    "    return nothing\n",
    "end"
   ]
  },
  {
   "cell_type": "code",
   "execution_count": 9,
   "metadata": {},
   "outputs": [
    {
     "data": {
      "text/plain": [
       "GPU (generic function with 1 method)"
      ]
     },
     "execution_count": 9,
     "metadata": {},
     "output_type": "execute_result"
    }
   ],
   "source": [
    "GPU() = CUDAKernels.CUDADevice()"
   ]
  },
  {
   "cell_type": "code",
   "execution_count": 10,
   "metadata": {},
   "outputs": [
    {
     "data": {
      "text/plain": [
       "32"
      ]
     },
     "execution_count": 10,
     "metadata": {},
     "output_type": "execute_result"
    }
   ],
   "source": [
    "numthreads = 32"
   ]
  },
  {
   "cell_type": "code",
   "execution_count": 11,
   "metadata": {},
   "outputs": [
    {
     "data": {
      "text/plain": [
       "16"
      ]
     },
     "execution_count": 11,
     "metadata": {},
     "output_type": "execute_result"
    }
   ],
   "source": [
    "workgroupsize = 16"
   ]
  },
  {
   "cell_type": "code",
   "execution_count": 12,
   "metadata": {},
   "outputs": [
    {
     "data": {
      "text/plain": [
       "32-element Vector{Float64}:\n",
       " 0.0\n",
       " 0.0\n",
       " 0.0\n",
       " 0.0\n",
       " 0.0\n",
       " 0.0\n",
       " 0.0\n",
       " 0.0\n",
       " 0.0\n",
       " 0.0\n",
       " 0.0\n",
       " 0.0\n",
       " 0.0\n",
       " ⋮\n",
       " 0.0\n",
       " 0.0\n",
       " 0.0\n",
       " 0.0\n",
       " 0.0\n",
       " 0.0\n",
       " 0.0\n",
       " 0.0\n",
       " 0.0\n",
       " 0.0\n",
       " 0.0\n",
       " 0.0"
      ]
     },
     "execution_count": 12,
     "metadata": {},
     "output_type": "execute_result"
    }
   ],
   "source": [
    "out = zeros(numthreads)\n",
    "a = rand(numthreads)\n",
    "b = rand(numthreads)\n",
    "c = rand(numthreads)\n",
    "out"
   ]
  },
  {
   "cell_type": "code",
   "execution_count": 13,
   "metadata": {},
   "outputs": [
    {
     "name": "stderr",
     "output_type": "stream",
     "text": [
      "┌ Warning: The NVIDIA driver on this system only supports up to CUDA 11.1.0.\n",
      "│ For performance reasons, it is recommended to upgrade to a driver that supports CUDA 11.2 or higher.\n",
      "└ @ CUDA /home/rrs/.julia/packages/CUDA/Ozu5O/src/initialization.jl:42\n"
     ]
    },
    {
     "data": {
      "text/plain": [
       "32-element CuArray{Float64, 1}:\n",
       " 0.0\n",
       " 0.0\n",
       " 0.0\n",
       " 0.0\n",
       " 0.0\n",
       " 0.0\n",
       " 0.0\n",
       " 0.0\n",
       " 0.0\n",
       " 0.0\n",
       " 0.0\n",
       " 0.0\n",
       " 0.0\n",
       " ⋮\n",
       " 0.0\n",
       " 0.0\n",
       " 0.0\n",
       " 0.0\n",
       " 0.0\n",
       " 0.0\n",
       " 0.0\n",
       " 0.0\n",
       " 0.0\n",
       " 0.0\n",
       " 0.0\n",
       " 0.0"
      ]
     },
     "execution_count": 13,
     "metadata": {},
     "output_type": "execute_result"
    }
   ],
   "source": [
    "out = CuArray(out)\n",
    "a = CuArray(a)\n",
    "b = CuArray(b)\n",
    "c = CuArray(c)\n",
    "out"
   ]
  },
  {
   "cell_type": "code",
   "execution_count": 15,
   "metadata": {},
   "outputs": [
    {
     "ename": "LoadError",
     "evalue": "CUDA error: unspecified launch failure (code 719, ERROR_LAUNCH_FAILED)",
     "output_type": "error",
     "traceback": [
      "CUDA error: unspecified launch failure (code 719, ERROR_LAUNCH_FAILED)",
      "",
      "Stacktrace:",
      "  [1] throw_api_error(res::CUDA.cudaError_enum)",
      "    @ CUDA ~/.julia/packages/CUDA/Ozu5O/lib/cudadrv/error.jl:105",
      "  [2] macro expansion",
      "    @ ~/.julia/packages/CUDA/Ozu5O/lib/cudadrv/error.jl:115 [inlined]",
      "  [3] cuLaunchKernel(f::CuFunction, gridDimX::UInt32, gridDimY::UInt32, gridDimZ::UInt32, blockDimX::UInt32, blockDimY::UInt32, blockDimZ::UInt32, sharedMemBytes::Int64, hStream::CuStream, kernelParams::Vector{Ptr{Nothing}}, extra::Ptr{Nothing})",
      "    @ CUDA ~/.julia/packages/CUDA/Ozu5O/lib/utils/call.jl:26",
      "  [4] #21",
      "    @ ~/.julia/packages/CUDA/Ozu5O/lib/cudadrv/execution.jl:69 [inlined]",
      "  [5] macro expansion",
      "    @ ~/.julia/packages/CUDA/Ozu5O/lib/cudadrv/execution.jl:33 [inlined]",
      "  [6] pack_arguments",
      "    @ ~/.julia/packages/CUDA/Ozu5O/lib/cudadrv/execution.jl:9 [inlined]",
      "  [7] launch(::CuFunction, ::CuDeviceVector{Float64, 1}, ::CuDeviceVector{Float64, 1}, ::CuDeviceVector{Float64, 1}, ::CuDeviceVector{Float64, 1}; blocks::Int64, threads::Int64, cooperative::Bool, shmem::Int64, stream::CuStream)",
      "    @ CUDA ~/.julia/packages/CUDA/Ozu5O/lib/cudadrv/execution.jl:62",
      "  [8] #26",
      "    @ ~/.julia/packages/CUDA/Ozu5O/lib/cudadrv/execution.jl:138 [inlined]",
      "  [9] macro expansion",
      "    @ ~/.julia/packages/CUDA/Ozu5O/lib/cudadrv/execution.jl:97 [inlined]",
      " [10] convert_arguments",
      "    @ ~/.julia/packages/CUDA/Ozu5O/lib/cudadrv/execution.jl:79 [inlined]",
      " [11] #cudacall#25",
      "    @ ~/.julia/packages/CUDA/Ozu5O/lib/cudadrv/execution.jl:137 [inlined]",
      " [12] macro expansion",
      "    @ ~/.julia/packages/CUDA/Ozu5O/src/compiler/execution.jl:196 [inlined]",
      " [13] call(::CUDA.HostKernel{typeof(multiplyAddArrayElements!), NTuple{4, CuDeviceVector{Float64, 1}}}, ::CuDeviceVector{Float64, 1}, ::CuDeviceVector{Float64, 1}, ::CuDeviceVector{Float64, 1}, ::CuDeviceVector{Float64, 1}; call_kwargs::Base.Iterators.Pairs{Symbol, Int64, Tuple{Symbol, Symbol}, NamedTuple{(:threads, :blocks), Tuple{Int64, Int64}}})",
      "    @ CUDA ~/.julia/packages/CUDA/Ozu5O/src/compiler/execution.jl:171",
      " [14] (::CUDA.HostKernel{typeof(multiplyAddArrayElements!), NTuple{4, CuDeviceVector{Float64, 1}}})(::CuArray{Float64, 1}, ::Vararg{CuArray{Float64, 1}, N} where N; threads::Int64, blocks::Int64, kwargs::Base.Iterators.Pairs{Union{}, Union{}, Tuple{}, NamedTuple{(), Tuple{}}})",
      "    @ CUDA ~/.julia/packages/CUDA/Ozu5O/src/compiler/execution.jl:454",
      " [15] top-level scope",
      "    @ ~/.julia/packages/CUDA/Ozu5O/src/compiler/execution.jl:104",
      " [16] eval",
      "    @ ./boot.jl:360 [inlined]",
      " [17] include_string(mapexpr::typeof(REPL.softscope), mod::Module, code::String, filename::String)",
      "    @ Base ./loading.jl:1094"
     ]
    }
   ],
   "source": [
    "@cuda threads=numthreads multiplyAddArrayElements!(out, a, b, c)"
   ]
  },
  {
   "cell_type": "code",
   "execution_count": 44,
   "metadata": {},
   "outputs": [
    {
     "data": {
      "text/plain": [
       "250-element CuArray{Float64, 1}:\n",
       " 0.3244520124180327\n",
       " 1.1162147376041265\n",
       " 0.9820627347005848\n",
       " 0.6529292397303488\n",
       " 0.8118404386538928\n",
       " 0.40150770078616294\n",
       " 1.2359077518535546\n",
       " 0.8067053668558233\n",
       " 0.7331256645610276\n",
       " 0.5771584286915407\n",
       " 0.9222058207651906\n",
       " 0.8910658702724237\n",
       " 1.1473600948220706\n",
       " ⋮\n",
       " 0.4203228802484937\n",
       " 0.5951693654790104\n",
       " 0.7500812200732844\n",
       " 1.2705264861112575\n",
       " 0.9854438667148737\n",
       " 0.8175299848307342\n",
       " 0.6016978660080969\n",
       " 0.14554578332238807\n",
       " 0.23825275359909914\n",
       " 0.7203472600090167\n",
       " 1.4943945944257204\n",
       " 1.4065102671646232"
      ]
     },
     "execution_count": 44,
     "metadata": {},
     "output_type": "execute_result"
    }
   ],
   "source": [
    "out"
   ]
  },
  {
   "cell_type": "code",
   "execution_count": 45,
   "metadata": {},
   "outputs": [],
   "source": [
    "synchronize()"
   ]
  },
  {
   "cell_type": "code",
   "execution_count": null,
   "metadata": {},
   "outputs": [],
   "source": []
  }
 ],
 "metadata": {
  "kernelspec": {
   "display_name": "Julia 1.6.1",
   "language": "julia",
   "name": "julia-1.6"
  },
  "language_info": {
   "file_extension": ".jl",
   "mimetype": "application/julia",
   "name": "julia",
   "version": "1.6.1"
  }
 },
 "nbformat": 4,
 "nbformat_minor": 4
}
