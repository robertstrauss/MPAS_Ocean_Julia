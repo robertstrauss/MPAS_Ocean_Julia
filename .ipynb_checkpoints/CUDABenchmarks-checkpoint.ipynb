{
 "cells": [
  {
   "cell_type": "code",
   "execution_count": 1,
   "id": "3a6d4d7c-0290-46fc-aa51-039c7d080219",
   "metadata": {},
   "outputs": [
    {
     "data": {
      "text/plain": [
       "vertexHeatMapMesh (generic function with 1 method)"
      ]
     },
     "execution_count": 1,
     "metadata": {},
     "output_type": "execute_result"
    }
   ],
   "source": [
    "CODE_ROOT = pwd() * \"/\"\n",
    "\n",
    "include(CODE_ROOT * \"mode_forward/time_steppers.jl\")\n",
    "include(CODE_ROOT * \"mode_init/MPAS_Ocean.jl\")\n",
    "include(CODE_ROOT  * \"visualization.jl\")"
   ]
  },
  {
   "cell_type": "code",
   "execution_count": 2,
   "id": "54acf14e-3c23-4a96-a934-4f3c6534d4ec",
   "metadata": {},
   "outputs": [],
   "source": [
    "import CUDA"
   ]
  },
  {
   "cell_type": "code",
   "execution_count": 3,
   "id": "8aa04f1a-0aac-4cc5-8e12-1f0588e46bc2",
   "metadata": {},
   "outputs": [
    {
     "data": {
      "text/plain": [
       "1024"
      ]
     },
     "execution_count": 3,
     "metadata": {},
     "output_type": "execute_result"
    }
   ],
   "source": [
    "const MAX_THREADS_PER_BLOCK = CUDA.attribute(\n",
    "        CUDA.CuDevice(0), CUDA.DEVICE_ATTRIBUTE_MAX_THREADS_PER_BLOCK,\n",
    ")"
   ]
  },
  {
   "cell_type": "code",
   "execution_count": null,
   "id": "4841d041-0dc1-46ac-b0fd-b120c433655b",
   "metadata": {},
   "outputs": [],
   "source": []
  },
  {
   "cell_type": "markdown",
   "id": "9a60409b-245f-4c12-a352-be5f24f2c9ac",
   "metadata": {},
   "source": [
    "# Load Mesh From File"
   ]
  },
  {
   "cell_type": "code",
   "execution_count": 4,
   "id": "97bf18ad-f2ca-43df-b9c1-493db351969f",
   "metadata": {},
   "outputs": [
    {
     "data": {
      "text/plain": [
       "MPAS_Ocean{Float32}"
      ]
     },
     "execution_count": 4,
     "metadata": {},
     "output_type": "execute_result"
    }
   ],
   "source": [
    "mpas32 = MPAS_Ocean{Float32}(CODE_ROOT * \"MPAS_O_Shallow_Water/Mesh+Initial_Condition+Registry_Files/Periodic\",\n",
    "                \"base_mesh.nc\", \"mesh.nc\", periodicity=\"Periodic\")\n",
    "typeof(mpas32)"
   ]
  },
  {
   "cell_type": "code",
   "execution_count": 5,
   "id": "52f73478-9360-46ca-ace4-ec61a3fd2198",
   "metadata": {},
   "outputs": [
    {
     "data": {
      "text/plain": [
       "MPAS_Ocean{Float32}"
      ]
     },
     "execution_count": 5,
     "metadata": {},
     "output_type": "execute_result"
    }
   ],
   "source": [
    "mpas64 = MPAS_Ocean{Float64}(CODE_ROOT * \"MPAS_O_Shallow_Water/Mesh+Initial_Condition+Registry_Files/Periodic\",\n",
    "                \"base_mesh.nc\", \"mesh.nc\", periodicity=\"Periodic\")\n",
    "typeof(mpas32)"
   ]
  },
  {
   "cell_type": "code",
   "execution_count": 6,
   "id": "51513fdb-fa71-4cdd-8533-5342f5e38c4c",
   "metadata": {},
   "outputs": [
    {
     "data": {
      "text/plain": [
       "MPAS_Ocean{Float64}"
      ]
     },
     "execution_count": 6,
     "metadata": {},
     "output_type": "execute_result"
    }
   ],
   "source": [
    "mpasOcean = mpas64\n",
    "typeof(mpasOcean)"
   ]
  },
  {
   "cell_type": "markdown",
   "id": "91a84766-d8eb-4b29-9217-7198348ef3f0",
   "metadata": {},
   "source": [
    "# Define Initial Condition"
   ]
  },
  {
   "cell_type": "code",
   "execution_count": 7,
   "id": "c579dcf9-d6d9-4a35-b5d2-fb9c8e1aaf31",
   "metadata": {},
   "outputs": [
    {
     "data": {
      "text/plain": [
       "gaussianInit! (generic function with 1 method)"
      ]
     },
     "execution_count": 7,
     "metadata": {},
     "output_type": "execute_result"
    }
   ],
   "source": [
    "function gaussianInit!(mpasOcean; sx=1/3, sy=1/3, mx=1/2, my=1/2)\n",
    "    sigmax = mpasOcean.lX*sx\n",
    "    sigmay = mpasOcean.lY*sy\n",
    "    \n",
    "    mux = mpasOcean.lX*mx\n",
    "    muy = mpasOcean.lY*my\n",
    "    \n",
    "    for iCell in 1:mpasOcean.nCells\n",
    "        mpasOcean.sshCurrent[iCell] = exp( - (mpasOcean.xCell[iCell] - mux)^2 / sigmax^2 - (mpasOcean.yCell[iCell] - muy)^2 / sigmay^2 )\n",
    "    end\n",
    "    \n",
    "    mpasOcean.normalVelocityCurrent .= 0\n",
    "    \n",
    "    return nothing\n",
    "end"
   ]
  },
  {
   "cell_type": "code",
   "execution_count": 8,
   "id": "f7f45b46-6c70-4c93-a132-776273fb2482",
   "metadata": {},
   "outputs": [
    {
     "data": {
      "text/plain": [
       "planeWaveInit! (generic function with 1 method)"
      ]
     },
     "execution_count": 8,
     "metadata": {},
     "output_type": "execute_result"
    }
   ],
   "source": [
    "function planeWaveInit!(mpasOcean; rkx = 1, rky = 1)\n",
    "    kx = rkx * 2 * pi / mpasOcean.lX\n",
    "    ky = rky * 2 * pi / mpasOcean.lY\n",
    "    \n",
    "    for iCell in 1:mpasOcean.nCells\n",
    "        mpasOcean.sshCurrent[iCell] = cos( kx * mpasOcean.xCell[iCell] + ky * mpasOcean.yCell[iCell] )\n",
    "    end\n",
    "    \n",
    "    mpasOcean.normalVelocityCurrent .= 0\n",
    "    \n",
    "    mpasOcean.sshTendency[:] .= mpasOcean.sshCurrent[:]\n",
    "    mpasOcean.normalVelocityTendency[:] .= mpasOcean.normalVelocityCurrent[:]\n",
    "    \n",
    "    return nothing\n",
    "end"
   ]
  },
  {
   "cell_type": "code",
   "execution_count": 9,
   "id": "d27b9ad2-de4c-421f-83c0-e0241b8869fe",
   "metadata": {},
   "outputs": [],
   "source": [
    "moveArrays!(mpasOcean, Array)\n",
    "\n",
    "planeWaveInit!(mpasOcean) # could also do gaussianInit!"
   ]
  },
  {
   "cell_type": "markdown",
   "id": "a2d9558a-5ec4-41a8-a39b-2b4ee7e8ef6e",
   "metadata": {},
   "source": [
    "# Benchmark GPU vs CPU"
   ]
  },
  {
   "cell_type": "code",
   "execution_count": null,
   "id": "ab07ca7d-19cd-4571-abbb-58d23b8a7521",
   "metadata": {},
   "outputs": [],
   "source": []
  },
  {
   "cell_type": "code",
   "execution_count": 10,
   "id": "53068d9e-45c2-4fbf-8aa3-ce35d53169b5",
   "metadata": {},
   "outputs": [],
   "source": [
    "using BenchmarkTools"
   ]
  },
  {
   "cell_type": "code",
   "execution_count": 11,
   "id": "1ef4fe4b-6628-46a8-8fa3-5d39c2e33145",
   "metadata": {
    "scrolled": false
   },
   "outputs": [
    {
     "data": {
      "text/plain": [
       "7500-element Vector{Float64}:\n",
       " 0.0\n",
       " 0.0\n",
       " 0.0\n",
       " 0.0\n",
       " 0.0\n",
       " 0.0\n",
       " 0.0\n",
       " 0.0\n",
       " 0.0\n",
       " 0.0\n",
       " 0.0\n",
       " 0.0\n",
       " 0.0\n",
       " ⋮\n",
       " 0.0\n",
       " 0.0\n",
       " 0.0\n",
       " 0.0\n",
       " 0.0\n",
       " 0.0\n",
       " 0.0\n",
       " 0.0\n",
       " 0.0\n",
       " 0.0\n",
       " 0.0\n",
       " 0.0"
      ]
     },
     "execution_count": 11,
     "metadata": {},
     "output_type": "execute_result"
    }
   ],
   "source": [
    "moveArrays!(mpasOcean, Array)\n",
    "gaussianInit!(mpasOcean)\n",
    "# save gaussian initial condition so it doesn't have to be recalculated every time\n",
    "initialSSH = mpasOcean.sshCurrent[:]\n",
    "initialNormalVelocity = mpasOcean.normalVelocityCurrent[:]"
   ]
  },
  {
   "cell_type": "code",
   "execution_count": 12,
   "id": "e4f61716",
   "metadata": {
    "mosaic": [
     "0",
     "1"
    ]
   },
   "outputs": [
    {
     "data": {
      "text/plain": [
       "BenchmarkTools.Trial: 256 samples with 1 evaluation.\n",
       " Range \u001b[90m(\u001b[39m\u001b[36m\u001b[1mmin\u001b[22m\u001b[39m … \u001b[35mmax\u001b[39m\u001b[90m):  \u001b[39m\u001b[36m\u001b[1m18.344 ms\u001b[22m\u001b[39m … \u001b[35m24.109 ms\u001b[39m  \u001b[90m┊\u001b[39m GC \u001b[90m(\u001b[39mmin … max\u001b[90m): \u001b[39m0.00% … 10.48%\n",
       " Time  \u001b[90m(\u001b[39m\u001b[34m\u001b[1mmedian\u001b[22m\u001b[39m\u001b[90m):     \u001b[39m\u001b[34m\u001b[1m18.745 ms              \u001b[22m\u001b[39m\u001b[90m┊\u001b[39m GC \u001b[90m(\u001b[39mmedian\u001b[90m):    \u001b[39m0.00%\n",
       " Time  \u001b[90m(\u001b[39m\u001b[32m\u001b[1mmean\u001b[22m\u001b[39m ± \u001b[32mσ\u001b[39m\u001b[90m):   \u001b[39m\u001b[32m\u001b[1m19.552 ms\u001b[22m\u001b[39m ± \u001b[32m 1.234 ms\u001b[39m  \u001b[90m┊\u001b[39m GC \u001b[90m(\u001b[39mmean ± σ\u001b[90m):  \u001b[39m4.56% ±  5.37%\n",
       "\n",
       "  \u001b[39m▅\u001b[39m█\u001b[39m▅\u001b[39m▃\u001b[39m▂\u001b[34m▃\u001b[39m\u001b[39m \u001b[39m \u001b[39m \u001b[39m \u001b[39m \u001b[39m \u001b[39m \u001b[39m \u001b[39m \u001b[39m \u001b[39m \u001b[32m \u001b[39m\u001b[39m \u001b[39m \u001b[39m \u001b[39m \u001b[39m \u001b[39m \u001b[39m \u001b[39m \u001b[39m \u001b[39m \u001b[39m \u001b[39m \u001b[39m \u001b[39m▄\u001b[39m▆\u001b[39m▃\u001b[39m▃\u001b[39m \u001b[39m▁\u001b[39m▁\u001b[39m \u001b[39m \u001b[39m \u001b[39m \u001b[39m \u001b[39m \u001b[39m \u001b[39m \u001b[39m \u001b[39m \u001b[39m \u001b[39m \u001b[39m \u001b[39m \u001b[39m \u001b[39m \u001b[39m \u001b[39m \u001b[39m \u001b[39m \u001b[39m \u001b[39m \u001b[39m \n",
       "  \u001b[39m█\u001b[39m█\u001b[39m█\u001b[39m█\u001b[39m█\u001b[34m█\u001b[39m\u001b[39m█\u001b[39m▆\u001b[39m▄\u001b[39m▄\u001b[39m▄\u001b[39m▇\u001b[39m▁\u001b[39m▁\u001b[39m▁\u001b[39m▁\u001b[39m▄\u001b[32m█\u001b[39m\u001b[39m▄\u001b[39m▆\u001b[39m▆\u001b[39m▆\u001b[39m▁\u001b[39m▁\u001b[39m▁\u001b[39m▁\u001b[39m▁\u001b[39m▁\u001b[39m▁\u001b[39m▁\u001b[39m▄\u001b[39m█\u001b[39m█\u001b[39m█\u001b[39m█\u001b[39m▇\u001b[39m█\u001b[39m█\u001b[39m▇\u001b[39m▆\u001b[39m▁\u001b[39m▁\u001b[39m▁\u001b[39m▁\u001b[39m▁\u001b[39m▁\u001b[39m▄\u001b[39m▄\u001b[39m▁\u001b[39m▁\u001b[39m▁\u001b[39m▁\u001b[39m▄\u001b[39m▁\u001b[39m▄\u001b[39m▆\u001b[39m▆\u001b[39m▁\u001b[39m▄\u001b[39m \u001b[39m▆\n",
       "  18.3 ms\u001b[90m      \u001b[39m\u001b[90mHistogram: \u001b[39m\u001b[90m\u001b[1mlog(\u001b[22m\u001b[39m\u001b[90mfrequency\u001b[39m\u001b[90m\u001b[1m)\u001b[22m\u001b[39m\u001b[90m by time\u001b[39m      22.6 ms \u001b[0m\u001b[1m<\u001b[22m\n",
       "\n",
       " Memory estimate\u001b[90m: \u001b[39m\u001b[33m17.05 MiB\u001b[39m, allocs estimate\u001b[90m: \u001b[39m\u001b[33m955195\u001b[39m."
      ]
     },
     "execution_count": 12,
     "metadata": {},
     "output_type": "execute_result"
    }
   ],
   "source": [
    "# benchmark time it takes to do a timestep on the CPU\n",
    "moveArrays!(mpas64, Array)\n",
    "mpas64.sshCurrent[:] = initialSSH[:]\n",
    "mpas64.normalVelocityCurrent[:] = initialNormalVelocity[:]\n",
    "cpubench = @benchmark forward_backward_step!(mpas64)"
   ]
  },
  {
   "cell_type": "code",
   "execution_count": 13,
   "id": "95832799",
   "metadata": {
    "mosaic": [
     "0",
     "1"
    ]
   },
   "outputs": [
    {
     "data": {
      "text/plain": [
       "1.95517237578125e7"
      ]
     },
     "execution_count": 13,
     "metadata": {},
     "output_type": "execute_result"
    }
   ],
   "source": [
    "meantimecpu = mean(cpubench.times)"
   ]
  },
  {
   "cell_type": "code",
   "execution_count": 14,
   "id": "d9effb65",
   "metadata": {
    "mosaic": [
     "0",
     "1"
    ]
   },
   "outputs": [
    {
     "data": {
      "text/plain": [
       "1.2318661158168875e6"
      ]
     },
     "execution_count": 14,
     "metadata": {},
     "output_type": "execute_result"
    }
   ],
   "source": [
    "sqrt(mean((cpubench.times .- meantimecpu).^2))"
   ]
  },
  {
   "cell_type": "code",
   "execution_count": 15,
   "id": "4741788b",
   "metadata": {
    "mosaic": [
     "0",
     "0"
    ]
   },
   "outputs": [
    {
     "data": {
      "text/plain": [
       "BenchmarkTools.Trial: 10000 samples with 1 evaluation.\n",
       " Range \u001b[90m(\u001b[39m\u001b[36m\u001b[1mmin\u001b[22m\u001b[39m … \u001b[35mmax\u001b[39m\u001b[90m):  \u001b[39m\u001b[36m\u001b[1m17.461 μs\u001b[22m\u001b[39m … \u001b[35m 4.168 ms\u001b[39m  \u001b[90m┊\u001b[39m GC \u001b[90m(\u001b[39mmin … max\u001b[90m): \u001b[39m0.00% … 99.00%\n",
       " Time  \u001b[90m(\u001b[39m\u001b[34m\u001b[1mmedian\u001b[22m\u001b[39m\u001b[90m):     \u001b[39m\u001b[34m\u001b[1m40.845 μs              \u001b[22m\u001b[39m\u001b[90m┊\u001b[39m GC \u001b[90m(\u001b[39mmedian\u001b[90m):    \u001b[39m0.00%\n",
       " Time  \u001b[90m(\u001b[39m\u001b[32m\u001b[1mmean\u001b[22m\u001b[39m ± \u001b[32mσ\u001b[39m\u001b[90m):   \u001b[39m\u001b[32m\u001b[1m39.811 μs\u001b[22m\u001b[39m ± \u001b[32m58.648 μs\u001b[39m  \u001b[90m┊\u001b[39m GC \u001b[90m(\u001b[39mmean ± σ\u001b[90m):  \u001b[39m2.07% ±  1.40%\n",
       "\n",
       "  \u001b[39m \u001b[39m \u001b[39m \u001b[39m \u001b[39m \u001b[39m \u001b[39m \u001b[39m \u001b[39m \u001b[39m \u001b[39m \u001b[39m \u001b[39m \u001b[39m \u001b[39m \u001b[39m \u001b[39m \u001b[39m \u001b[39m \u001b[39m \u001b[39m \u001b[39m \u001b[39m \u001b[39m \u001b[39m \u001b[39m \u001b[39m \u001b[39m \u001b[39m \u001b[39m \u001b[39m \u001b[39m \u001b[39m \u001b[39m \u001b[39m \u001b[39m \u001b[39m \u001b[39m \u001b[39m \u001b[39m \u001b[39m \u001b[39m \u001b[39m \u001b[39m \u001b[39m \u001b[39m \u001b[39m \u001b[39m \u001b[39m \u001b[39m \u001b[39m \u001b[39m \u001b[39m \u001b[32m \u001b[39m\u001b[39m▆\u001b[34m█\u001b[39m\u001b[39m \u001b[39m \u001b[39m \u001b[39m \u001b[39m \n",
       "  \u001b[39m▂\u001b[39m▃\u001b[39m▃\u001b[39m▃\u001b[39m▂\u001b[39m▂\u001b[39m▂\u001b[39m▂\u001b[39m▂\u001b[39m▂\u001b[39m▂\u001b[39m▁\u001b[39m▂\u001b[39m▂\u001b[39m▂\u001b[39m▂\u001b[39m▁\u001b[39m▁\u001b[39m▂\u001b[39m▂\u001b[39m▂\u001b[39m▂\u001b[39m▂\u001b[39m▂\u001b[39m▂\u001b[39m▂\u001b[39m▁\u001b[39m▁\u001b[39m▁\u001b[39m▂\u001b[39m▁\u001b[39m▁\u001b[39m▁\u001b[39m▂\u001b[39m▂\u001b[39m▂\u001b[39m▂\u001b[39m▂\u001b[39m▂\u001b[39m▂\u001b[39m▂\u001b[39m▁\u001b[39m▂\u001b[39m▂\u001b[39m▂\u001b[39m▂\u001b[39m▂\u001b[39m▂\u001b[39m▂\u001b[39m▂\u001b[39m▂\u001b[39m▂\u001b[39m▂\u001b[32m▅\u001b[39m\u001b[39m█\u001b[34m█\u001b[39m\u001b[39m█\u001b[39m▃\u001b[39m▂\u001b[39m \u001b[39m▂\n",
       "  17.5 μs\u001b[90m         Histogram: frequency by time\u001b[39m        42.5 μs \u001b[0m\u001b[1m<\u001b[22m\n",
       "\n",
       " Memory estimate\u001b[90m: \u001b[39m\u001b[33m8.97 KiB\u001b[39m, allocs estimate\u001b[90m: \u001b[39m\u001b[33m178\u001b[39m."
      ]
     },
     "execution_count": 15,
     "metadata": {},
     "output_type": "execute_result"
    }
   ],
   "source": [
    "# benchmark time it takes to do a timestep on the GPU\n",
    "mpas64.sshCurrent[:] = initialSSH[:]\n",
    "mpas64.normalVelocityCurrent[:] = initialNormalVelocity[:]\n",
    "moveArrays!(mpas64, CUDA.CuArray)\n",
    "gpubench = @benchmark forward_backward_step_cuda!(mpas64) samples=10000"
   ]
  },
  {
   "cell_type": "code",
   "execution_count": 16,
   "id": "1ff6794a",
   "metadata": {
    "mosaic": [
     "0",
     "0"
    ]
   },
   "outputs": [
    {
     "data": {
      "text/plain": [
       "39810.6105"
      ]
     },
     "execution_count": 16,
     "metadata": {},
     "output_type": "execute_result"
    }
   ],
   "source": [
    "meantimegpu = mean(gpubench.times)"
   ]
  },
  {
   "cell_type": "code",
   "execution_count": 17,
   "id": "0117362b",
   "metadata": {
    "mosaic": [
     "0",
     "0"
    ]
   },
   "outputs": [
    {
     "data": {
      "text/plain": [
       "58645.404371583885"
      ]
     },
     "execution_count": 17,
     "metadata": {},
     "output_type": "execute_result"
    }
   ],
   "source": [
    "sqrt(mean((gpubench.times .- meantimegpu).^2))"
   ]
  },
  {
   "cell_type": "code",
   "execution_count": 18,
   "id": "3c1aaa68",
   "metadata": {
    "mosaic": [
     "0",
     "2"
    ]
   },
   "outputs": [
    {
     "data": {
      "text/plain": [
       "491.1184107014008"
      ]
     },
     "execution_count": 18,
     "metadata": {},
     "output_type": "execute_result"
    }
   ],
   "source": [
    "meantimecpu/meantimegpu"
   ]
  },
  {
   "cell_type": "markdown",
   "id": "15a10211",
   "metadata": {
    "mosaic": [
     "0",
     "2"
    ]
   },
   "source": [
    "That's an incredible speedup!"
   ]
  },
  {
   "cell_type": "code",
   "execution_count": 16,
   "id": "ed1e5305",
   "metadata": {
    "mosaic": [],
    "scrolled": true
   },
   "outputs": [
    {
     "data": {
      "text/plain": [
       "update_ssh_by_tendency_cuda_kernel! (generic function with 1 method)"
      ]
     },
     "execution_count": 16,
     "metadata": {},
     "output_type": "execute_result"
    }
   ],
   "source": [
    "include(\"mode_init/MPAS_Ocean_CUDA.jl\")"
   ]
  },
  {
   "cell_type": "code",
   "execution_count": 18,
   "id": "5ca0c558",
   "metadata": {
    "mosaic": []
   },
   "outputs": [
    {
     "data": {
      "text/plain": [
       "MPAS_Ocean_CUDA([0.9892723329629883, 0.9631625667976582, 0.9218631515885005, 0.8660254037844387, 0.7965299180241964, 0.7144726796328034, 0.6211477802783104, 0.5180270093731303, 0.4067366430758004, 0.28903179694447184  …  0.38751558645210105, 0.4999999999999991, 0.6045991148623748, 0.6996633405133649, 0.783693457325839, 0.8553642601605055, 0.9135454576426004, 0.9573194975320672, 0.9859960370705048, 0.9991228300988583], [0.013670705776345467, 0.016249388527358702, 0.019175919112927212, 0.022467173289690667, 0.02613447382456567, 0.030182288504651218, 0.03460697595652069, 0.03939564507021855, 0.044525198128071264, 0.0499616284090268  …  0.04451184257206646, 0.039525865444392724, 0.03484658980774021, 0.030500872171217483, 0.026505580056142567, 0.022868382483771488, 0.019588747201293746, 0.01665907776530237, 0.014065926028455205, 0.011791221087892932], [1000.0, 1000.0, 1000.0, 1000.0, 1000.0, 1000.0, 1000.0, 1000.0, 1000.0, 1000.0  …  1000.0, 1000.0, 1000.0, 1000.0, 1000.0, 1000.0, 1000.0, 1000.0, 1000.0, 1000.0], [866025.4037844387, 866025.4037844387, 866025.4037844387, 866025.4037844387, 866025.4037844386, 866025.4037844387, 866025.4037844387, 866025.4037844387, 866025.4037844387, 866025.4037844387  …  866025.4037844392, 866025.4037844392, 866025.4037844392, 866025.4037844392, 866025.4037844392, 866025.4037844392, 866025.4037844391, 866025.4037844392, 866025.4037844392, 866025.4037844392], [6, 6, 6, 6, 6, 6, 6, 6, 6, 6  …  6, 6, 6, 6, 6, 6, 6, 6, 6, 6], [2639 2711 … 19 73; 4115 3463 … 7428 695; … ; 3873 4117 … 102 7428; 4223 4245 … 2285 4854], [100 52 … 2450 2401; 50 51 … 2500 2451; … ; 2 2452 … 2498 2499; 51 3 … 2449 2450], [-1 -1 … -1 -1; -1 -1 … -1 -1; … ; 1 -1 … 1 1; 1 1 … 1 1], [0.0001, 0.0001, 0.0001, 0.0001, 0.0001, 0.0001, 0.0001, 0.0001, 0.0001, 0.0001  …  0.0001, 0.0001, 0.0001, 0.0001, 0.0001, 0.0001, 0.0001, 0.0001, 0.0001, 0.0001], [1000.0, 1000.0, 1000.0, 1000.0, 1000.0, 1000.0, 1000.0, 1000.0, 1000.0, 1000.0  …  1000.0000000000002, 1000.0, 1000.0000000000002, 1000.0000000000002, 1000.0, 1000.0000000000033, 1000.0000000000002, 1000.0000000000002, 999.9999999999969, 1000.0], [577.3502691896283, 577.3502691896283, 577.3502691896283, 577.3502691896283, 577.3502691896283, 577.3502691896283, 577.3502691896283, 577.3502691896283, 577.3502691896283, 577.3502691896283  …  577.3502691896246, 577.3502691896247, 577.3502691896246, 577.3502691896246, 577.3502691896283, 577.3502691896264, 577.3502691896246, 577.3502691896246, 577.3502691896227, 577.3502691896283], [43012.59505462711, 43012.59505462711, 43012.59505462711, 43012.59505462711, 43012.59505462711, 43012.59505462711, 43012.59505462711, 43012.59505462711, 43012.59505462711, 43012.59505462711  …  24393.048873261687, 14433.756729740644, 21794.972661908374, 29589.20129596832, 21361.959960016153, 39981.50614138158, 21794.972661908374, 21794.972661908374, 34785.353718674945, 21361.959960016153], [47500.0, 39500.0, 38500.0, 37500.0, 35500.0, 34500.0, 29500.0, 28500.0, 24500.0, 23500.0  …  9750.0, 41000.0, 9750.0, 12250.0, 11000.0, 50250.0, 11750.0, 11250.0, 28750.0, 13000.0], [0.0, 0.0, 0.0, 0.0, 0.0, 0.0, 0.0, 0.0, 0.0, 0.0  …  2.0943951023931953, 0.0, 1.0471975511965979, 1.0471975511965979, 0.0, 1.0471975511965976, 1.0471975511965979, 2.0943951023931953, 2.094395102393197, 0.0], [0.0, 0.0, 0.0, 0.0, 0.0, 0.0, 0.0, 0.0, 0.0, 0.0  …  0.0, 0.0, 0.0, 0.0, 0.0, 0.0, 0.0, 0.0, 0.0, 0.0], [0.0, 0.0, 0.0, 0.0, 0.0, 0.0, 0.0, 0.0, 0.0, 0.0  …  0.0, 0.0, 0.0, 0.0, 0.0, 0.0, 0.0, 0.0, 0.0, 0.0], [-0.19245008972987487 -0.19245008972987487 … -0.19245008972987748 0.19245008972987449; -0.09622504486493702 -0.09622504486493702 … -0.09622504486493845 0.09622504486493734; … ; 0.0 0.0 … 0.0 0.0; 0.0 0.0 … 0.0 0.0], [10, 10, 10, 10, 10, 10, 10, 10, 10, 10  …  10, 10, 10, 10, 10, 10, 10, 10, 10, 10], [2497 2489 … 1979 1213; 2498 2490 … 2029 1214], [3325 4499 … 651 4375; 3668 5825 … 1814 2288; … ; 0 0 … 0 0; 0 0 … 0 0], Int8[0; 0; … ; 0; 0], 2500, 7500, 9.8, 1.0101525445522077)"
      ]
     },
     "execution_count": 18,
     "metadata": {},
     "output_type": "execute_result"
    }
   ],
   "source": [
    "mpas64.sshCurrent[:] = initialSSH[:]\n",
    "mpas64.normalVelocityCurrent[:] = initialNormalVelocity[:]\n",
    "mpasOceanCuda = MPAS_Ocean_CUDA(mpas64)"
   ]
  },
  {
   "cell_type": "code",
   "execution_count": 19,
   "id": "6625d98a",
   "metadata": {
    "mosaic": []
   },
   "outputs": [
    {
     "data": {
      "text/plain": [
       "BenchmarkTools.Trial: 10000 samples with 6 evaluations.\n",
       " Range \u001b[90m(\u001b[39m\u001b[36m\u001b[1mmin\u001b[22m\u001b[39m … \u001b[35mmax\u001b[39m\u001b[90m):  \u001b[39m\u001b[36m\u001b[1m 5.500 μs\u001b[22m\u001b[39m … \u001b[35m469.126 μs\u001b[39m  \u001b[90m┊\u001b[39m GC \u001b[90m(\u001b[39mmin … max\u001b[90m): \u001b[39m0.00% … 91.27%\n",
       " Time  \u001b[90m(\u001b[39m\u001b[34m\u001b[1mmedian\u001b[22m\u001b[39m\u001b[90m):     \u001b[39m\u001b[34m\u001b[1m50.424 μs               \u001b[22m\u001b[39m\u001b[90m┊\u001b[39m GC \u001b[90m(\u001b[39mmedian\u001b[90m):    \u001b[39m0.00%\n",
       " Time  \u001b[90m(\u001b[39m\u001b[32m\u001b[1mmean\u001b[22m\u001b[39m ± \u001b[32mσ\u001b[39m\u001b[90m):   \u001b[39m\u001b[32m\u001b[1m50.268 μs\u001b[22m\u001b[39m ± \u001b[32m  5.518 μs\u001b[39m  \u001b[90m┊\u001b[39m GC \u001b[90m(\u001b[39mmean ± σ\u001b[90m):  \u001b[39m0.09% ±  0.91%\n",
       "\n",
       "  \u001b[39m \u001b[39m \u001b[39m \u001b[39m \u001b[39m \u001b[39m \u001b[39m \u001b[39m \u001b[39m \u001b[39m \u001b[39m \u001b[39m \u001b[39m \u001b[39m \u001b[39m \u001b[39m \u001b[39m \u001b[39m \u001b[39m \u001b[39m \u001b[39m \u001b[39m \u001b[39m \u001b[39m \u001b[39m \u001b[39m \u001b[39m \u001b[39m \u001b[39m \u001b[39m \u001b[39m \u001b[39m \u001b[39m \u001b[39m \u001b[39m \u001b[39m \u001b[39m \u001b[39m \u001b[39m \u001b[39m \u001b[39m \u001b[39m \u001b[39m \u001b[39m \u001b[39m \u001b[39m \u001b[39m \u001b[39m \u001b[39m \u001b[39m \u001b[39m \u001b[39m \u001b[39m \u001b[39m \u001b[39m \u001b[39m \u001b[39m \u001b[39m▇\u001b[34m█\u001b[39m\u001b[39m▁\u001b[39m \u001b[39m▁\n",
       "  \u001b[39m█\u001b[39m▁\u001b[39m▁\u001b[39m▁\u001b[39m▁\u001b[39m▁\u001b[39m▁\u001b[39m▃\u001b[39m▁\u001b[39m▁\u001b[39m▁\u001b[39m▁\u001b[39m▁\u001b[39m▁\u001b[39m▁\u001b[39m▁\u001b[39m▁\u001b[39m▁\u001b[39m▁\u001b[39m▁\u001b[39m▃\u001b[39m▁\u001b[39m▁\u001b[39m▁\u001b[39m▁\u001b[39m▁\u001b[39m▁\u001b[39m▁\u001b[39m▁\u001b[39m▁\u001b[39m▁\u001b[39m▁\u001b[39m▁\u001b[39m▁\u001b[39m▃\u001b[39m▁\u001b[39m▁\u001b[39m▁\u001b[39m▁\u001b[39m▁\u001b[39m▃\u001b[39m▁\u001b[39m▁\u001b[39m▁\u001b[39m▁\u001b[39m▁\u001b[39m▁\u001b[39m▁\u001b[39m▃\u001b[39m▃\u001b[39m▅\u001b[39m▅\u001b[39m▄\u001b[39m▅\u001b[39m▅\u001b[39m▅\u001b[39m▅\u001b[39m█\u001b[34m█\u001b[39m\u001b[39m█\u001b[39m \u001b[39m█\n",
       "  5.5 μs\u001b[90m        \u001b[39m\u001b[90mHistogram: \u001b[39m\u001b[90m\u001b[1mlog(\u001b[22m\u001b[39m\u001b[90mfrequency\u001b[39m\u001b[90m\u001b[1m)\u001b[22m\u001b[39m\u001b[90m by time\u001b[39m      51.9 μs \u001b[0m\u001b[1m<\u001b[22m\n",
       "\n",
       " Memory estimate\u001b[90m: \u001b[39m\u001b[33m1.36 KiB\u001b[39m, allocs estimate\u001b[90m: \u001b[39m\u001b[33m17\u001b[39m."
      ]
     },
     "execution_count": 19,
     "metadata": {},
     "output_type": "execute_result"
    }
   ],
   "source": [
    "gpubench2 = @benchmark forward_backward_step_cuda!(mpasOceanCuda) samples=10000"
   ]
  },
  {
   "cell_type": "markdown",
   "id": "f8ef0da2-1a12-49ee-9f68-0dd12052dc55",
   "metadata": {},
   "source": [
    "## whole time step"
   ]
  },
  {
   "cell_type": "markdown",
   "id": "779d8169-b5bb-47bc-997c-e9640a558991",
   "metadata": {},
   "source": [
    "### double precision"
   ]
  },
  {
   "cell_type": "code",
   "execution_count": 121,
   "id": "89f02d43-4327-4a58-8c9a-d0727593a8b6",
   "metadata": {},
   "outputs": [
    {
     "data": {
      "text/plain": [
       "func1! (generic function with 1 method)"
      ]
     },
     "execution_count": 121,
     "metadata": {},
     "output_type": "execute_result"
    }
   ],
   "source": [
    "function func1!(mpasOcean)\n",
    "    mpasOcean.normalVelocityTendency[:] .= convert(eltype(mpasOcean.normalVelocityTendency), 0)\n",
    "\n",
    "    for iEdge in 1:mpasOcean.nEdges\n",
    "        # gravity term: take gradient of sshCurrent across edge\n",
    "        cell1Index, cell2Index = 1, 2 #mpasOcean.cellsOnEdge[:,iEdge]\n",
    "        \n",
    "#         if cell1Index != 0 && cell2Index != 0\n",
    "            mpasOcean.normalVelocityTendency[iEdge] = mpasOcean.gravity * ( mpasOcean.sshCurrent[cell1Index] - mpasOcean.sshCurrent[cell2Index] ) / mpasOcean.dcEdge[iEdge]\n",
    "#         end\n",
    "        \n",
    "#         # coriolis term\n",
    "#         for i in 1:mpasOcean.nEdgesOnEdge[iEdge]\n",
    "#             eoe = mpasOcean.edgesOnEdge[i,iEdge]\n",
    "            \n",
    "#             if eoe != 0\n",
    "#                     mpasOcean.normalVelocityTendency[iEdge] += mpasOcean.weightsOnEdge[i,iEdge] * mpasOcean.normalVelocityCurrent[eoe] * mpasOcean.fEdge[eoe]\n",
    "#             end\n",
    "#         end\n",
    "    end\n",
    "end"
   ]
  },
  {
   "cell_type": "code",
   "execution_count": 119,
   "id": "9368ea11-3439-4d50-a589-026ee714fcce",
   "metadata": {},
   "outputs": [
    {
     "data": {
      "text/plain": [
       "2×7500 Matrix{Int32}:\n",
       " 2497  2489  2488  2487  2485  2484  …  1211  2300  1212  1212  1979  1213\n",
       " 2498  2490  2489  2488  2486  2485     1212  2301  1262  1261  2029  1214"
      ]
     },
     "execution_count": 119,
     "metadata": {},
     "output_type": "execute_result"
    }
   ],
   "source": [
    "mpasOcean.cellsOnEdge"
   ]
  },
  {
   "cell_type": "code",
   "execution_count": 122,
   "id": "19ce0782-0c2a-4f2a-8015-acdeaa3bb514",
   "metadata": {},
   "outputs": [
    {
     "data": {
      "text/plain": [
       "func1dot! (generic function with 1 method)"
      ]
     },
     "execution_count": 122,
     "metadata": {},
     "output_type": "execute_result"
    }
   ],
   "source": [
    "function func1dot!(mpasOcean)\n",
    "    mpasOcean.normalVelocityTendency[:] .= convert(eltype(mpasOcean.normalVelocityTendency), 0)\n",
    "\n",
    "        # gravity term: take gradient of sshCurrent across edge\n",
    "        cell1Index, cell2Index = 1, 2 #mpasOcean.cellsOnEdge[:,iEdge]\n",
    "        \n",
    "#         if cell1Index != 0 && cell2Index != 0\n",
    "    mpasOcean.normalVelocityTendency .= mpasOcean.gravity .* ( mpasOcean.sshCurrent[mpasOcean.cellsOnEdge[1,:]] .- mpasOcean.sshCurrent[mpasOcean.cellsOnEdge[2,:]] ) ./ mpasOcean.dcEdge\n",
    "#         end\n",
    "        \n",
    "#         # coriolis term\n",
    "#         for i in 1:mpasOcean.nEdgesOnEdge[iEdge]\n",
    "#             eoe = mpasOcean.edgesOnEdge[i,iEdge]\n",
    "            \n",
    "#             if eoe != 0\n",
    "#                     mpasOcean.normalVelocityTendency[iEdge] += mpasOcean.weightsOnEdge[i,iEdge] * mpasOcean.normalVelocityCurrent[eoe] * mpasOcean.fEdge[eoe]\n",
    "    #             end\n",
    "                    mpasOcean.normalVelocityTendency .+= mpasOcean.weightsOnEdge[:,:] .* mpasOcean.normalVelocityCurrent[mpasOcean.edgesOnEdge]\n",
    "#         end\n",
    "end"
   ]
  },
  {
   "cell_type": "code",
   "execution_count": 76,
   "id": "6269a734-d550-48cc-81e9-873507518c96",
   "metadata": {},
   "outputs": [
    {
     "data": {
      "text/plain": [
       "2×7500 Matrix{Float32}:\n",
       " 634.263  775.076  530.594  414.946  457.528  …  -758.347    6.8425  -862.425\n",
       " 816.749  779.639  775.076  530.594  305.573     -351.137  417.413   -822.532"
      ]
     },
     "execution_count": 76,
     "metadata": {},
     "output_type": "execute_result"
    }
   ],
   "source": [
    "mpasOcean.sshCurrent[mpasOcean.cellsOnEdge]"
   ]
  },
  {
   "cell_type": "code",
   "execution_count": 123,
   "id": "0a9a53aa-4784-47d7-8eb3-4f583336546c",
   "metadata": {},
   "outputs": [
    {
     "data": {
      "text/plain": [
       "10000"
      ]
     },
     "execution_count": 123,
     "metadata": {},
     "output_type": "execute_result"
    }
   ],
   "source": [
    "sampsize = 10000"
   ]
  },
  {
   "cell_type": "code",
   "execution_count": 124,
   "id": "db4cfbed-19b0-419d-9e9f-ef3f75e0966f",
   "metadata": {},
   "outputs": [
    {
     "name": "stdout",
     "output_type": "stream",
     "text": [
      "  0.500486 seconds (1.89 M allocations: 1.208 GiB, 10.23% gc time)\n"
     ]
    }
   ],
   "source": [
    "mpasOcean = mpas32\n",
    "@time for i in 1:sampsize\n",
    "    func1dot!(mpasOcean)\n",
    "end"
   ]
  },
  {
   "cell_type": "code",
   "execution_count": 125,
   "id": "b6027f52-9e0a-4a43-8c35-f46c0a78559f",
   "metadata": {},
   "outputs": [
    {
     "name": "stdout",
     "output_type": "stream",
     "text": [
      " 11.642514 seconds (741.55 M allocations: 12.228 GiB, 6.47% gc time)\n"
     ]
    }
   ],
   "source": [
    "mpasOcean = mpas32\n",
    "@time for i in 1:sampsize\n",
    "    func1!(mpasOcean)\n",
    "end"
   ]
  },
  {
   "cell_type": "code",
   "execution_count": 126,
   "id": "ac6d00d8-0525-4f2e-831b-743f8ffb1142",
   "metadata": {},
   "outputs": [
    {
     "name": "stdout",
     "output_type": "stream",
     "text": [
      "  0.546731 seconds (1.89 M allocations: 1.767 GiB, 10.42% gc time)\n"
     ]
    }
   ],
   "source": [
    "mpasOcean = mpas64\n",
    "@time for i in 1:sampsize\n",
    "    func1dot!(mpasOcean)\n",
    "end"
   ]
  },
  {
   "cell_type": "code",
   "execution_count": 127,
   "id": "d2d47346-0ed4-481a-9ee4-cbd1d72443aa",
   "metadata": {},
   "outputs": [
    {
     "name": "stdout",
     "output_type": "stream",
     "text": [
      " 10.680777 seconds (741.55 M allocations: 12.228 GiB, 7.06% gc time)\n"
     ]
    }
   ],
   "source": [
    "mpasOcean = mpas64\n",
    "@time for i in 1:sampsize\n",
    "    func1!(mpasOcean)\n",
    "end"
   ]
  },
  {
   "cell_type": "code",
   "execution_count": 115,
   "id": "6c9e0a29-9739-4064-998b-0dffc1609b03",
   "metadata": {},
   "outputs": [
    {
     "data": {
      "text/plain": [
       "1.2307692307692308"
      ]
     },
     "execution_count": 115,
     "metadata": {},
     "output_type": "execute_result"
    }
   ],
   "source": [
    "0.32/0.26"
   ]
  },
  {
   "cell_type": "code",
   "execution_count": 117,
   "id": "f8958202-d4c3-43ee-ac39-2ea1ab14e49f",
   "metadata": {},
   "outputs": [
    {
     "data": {
      "text/plain": [
       "1.087535680304472"
      ]
     },
     "execution_count": 117,
     "metadata": {},
     "output_type": "execute_result"
    }
   ],
   "source": [
    "11.43/10.51"
   ]
  },
  {
   "cell_type": "code",
   "execution_count": 73,
   "id": "f43b2eeb-7c8f-4538-8ffc-9110610163b4",
   "metadata": {},
   "outputs": [],
   "source": [
    "using DelimitedFiles"
   ]
  },
  {
   "cell_type": "code",
   "execution_count": 48,
   "id": "1c4ddcdc-a2ae-4ff6-978b-8acf0131d1f6",
   "metadata": {},
   "outputs": [],
   "source": [
    "open(CODE_ROOT * \"output/gpubenchmark.txt\", \"w\") do file\n",
    "    writedlm(file, [string(gpubench.params), gpubench.times, gpubench.gctimes, gpubench.memory, gpubench.allocs])\n",
    "end"
   ]
  },
  {
   "cell_type": "code",
   "execution_count": 74,
   "id": "6b62acf6-538f-46ca-86a6-91b39f26e1b0",
   "metadata": {},
   "outputs": [],
   "source": [
    "open(CODE_ROOT * \"output/cpubenchmark.txt\", \"w\") do file\n",
    "    writedlm(file, [string(cpubench.params), cpubench.times, cpubench.gctimes, cpubench.memory, cpubench.allocs])\n",
    "end"
   ]
  },
  {
   "cell_type": "code",
   "execution_count": 91,
   "id": "89012553-ce72-4a6d-b70c-2d7c2ccd1cb9",
   "metadata": {},
   "outputs": [
    {
     "name": "stdout",
     "output_type": "stream",
     "text": [
      "CUDA kernel evaluation is 603.8124471873369 times faster than the CPU evaluation on average\n"
     ]
    }
   ],
   "source": [
    "println(\"CUDA kernel evaluation is $(mean(cpubench.times)/mean(gpubench.times)) times faster than the CPU evaluation on average\")"
   ]
  },
  {
   "cell_type": "code",
   "execution_count": null,
   "id": "c96ea432-22a2-4a93-938c-a62b3c4e9b1b",
   "metadata": {},
   "outputs": [],
   "source": []
  },
  {
   "cell_type": "markdown",
   "id": "9dc00d9d-335e-44bf-bc24-83546de04be9",
   "metadata": {},
   "source": [
    "### single precision"
   ]
  },
  {
   "cell_type": "code",
   "execution_count": 16,
   "id": "598ced52-4b5e-43ef-ad08-89c3fc58def7",
   "metadata": {},
   "outputs": [
    {
     "data": {
      "text/plain": [
       "BechmarkTools.Trial: 10000 samples with 1 evaluations.\n",
       " Range \u001b[90m(\u001b[39m\u001b[36m\u001b[1mmin\u001b[22m\u001b[39m … \u001b[35mmax\u001b[39m\u001b[90m):  \u001b[39m\u001b[36m\u001b[1m17.796 μs\u001b[22m\u001b[39m … \u001b[35m 4.374 ms\u001b[39m  \u001b[90m┊\u001b[39m GC \u001b[90m(\u001b[39mmin … max\u001b[90m): \u001b[39m0.00% … 98.98%\n",
       " Time  \u001b[90m(\u001b[39m\u001b[34m\u001b[1mmedian\u001b[22m\u001b[39m\u001b[90m):     \u001b[39m\u001b[34m\u001b[1m41.169 μs              \u001b[22m\u001b[39m\u001b[90m┊\u001b[39m GC \u001b[90m(\u001b[39mmedian\u001b[90m):    \u001b[39m0.00%\n",
       " Time  \u001b[90m(\u001b[39m\u001b[32m\u001b[1mmean\u001b[22m\u001b[39m ± \u001b[32mσ\u001b[39m\u001b[90m):   \u001b[39m\u001b[32m\u001b[1m40.691 μs\u001b[22m\u001b[39m ± \u001b[32m62.356 μs\u001b[39m  \u001b[90m┊\u001b[39m GC \u001b[90m(\u001b[39mmean ± σ\u001b[90m):  \u001b[39m2.12% ±  1.40%\n",
       "\n",
       "  \u001b[39m▁\u001b[39m▄\u001b[39m▃\u001b[39m \u001b[39m \u001b[39m \u001b[39m \u001b[39m \u001b[39m \u001b[39m \u001b[39m \u001b[39m \u001b[39m \u001b[39m \u001b[39m \u001b[39m \u001b[39m \u001b[39m \u001b[39m \u001b[39m \u001b[39m \u001b[39m \u001b[39m \u001b[39m \u001b[39m \u001b[39m \u001b[39m \u001b[39m \u001b[39m \u001b[39m \u001b[39m \u001b[39m \u001b[39m \u001b[39m \u001b[39m \u001b[39m \u001b[39m \u001b[39m \u001b[39m \u001b[39m \u001b[39m \u001b[39m \u001b[39m \u001b[39m \u001b[39m \u001b[32m \u001b[39m\u001b[39m▂\u001b[39m▅\u001b[39m█\u001b[34m█\u001b[39m\u001b[39m▄\u001b[39m▁\u001b[39m \u001b[39m \u001b[39m \u001b[39m \u001b[39m \u001b[39m \u001b[39m \u001b[39m \u001b[39m▂\n",
       "  \u001b[39m█\u001b[39m█\u001b[39m█\u001b[39m█\u001b[39m▆\u001b[39m▅\u001b[39m▄\u001b[39m▅\u001b[39m▁\u001b[39m▃\u001b[39m▃\u001b[39m▁\u001b[39m▄\u001b[39m▄\u001b[39m▁\u001b[39m▁\u001b[39m▄\u001b[39m▅\u001b[39m▄\u001b[39m▄\u001b[39m▅\u001b[39m▄\u001b[39m▄\u001b[39m▄\u001b[39m▁\u001b[39m▁\u001b[39m▁\u001b[39m▁\u001b[39m▄\u001b[39m▁\u001b[39m▄\u001b[39m▃\u001b[39m▁\u001b[39m▄\u001b[39m▃\u001b[39m▁\u001b[39m▄\u001b[39m▄\u001b[39m▁\u001b[39m▃\u001b[39m▄\u001b[39m▃\u001b[39m▆\u001b[39m▆\u001b[39m▇\u001b[32m█\u001b[39m\u001b[39m█\u001b[39m█\u001b[39m█\u001b[34m█\u001b[39m\u001b[39m█\u001b[39m█\u001b[39m█\u001b[39m▇\u001b[39m▆\u001b[39m▅\u001b[39m▄\u001b[39m▆\u001b[39m▅\u001b[39m \u001b[39m█\n",
       "  17.8 μs\u001b[90m      \u001b[39m\u001b[90mHistogram: \u001b[39m\u001b[90m\u001b[1mlog(\u001b[22m\u001b[39m\u001b[90mfrequency\u001b[39m\u001b[90m\u001b[1m)\u001b[22m\u001b[39m\u001b[90m by time\u001b[39m      46.1 μs \u001b[0m\u001b[1m<\u001b[22m\n",
       "\n",
       " Memory estimate\u001b[90m: \u001b[39m\u001b[33m8.97 KiB\u001b[39m, allocs estimate\u001b[90m: \u001b[39m\u001b[33m178\u001b[39m."
      ]
     },
     "execution_count": 16,
     "metadata": {},
     "output_type": "execute_result"
    }
   ],
   "source": [
    "# benchmark time it takes to do a timestep on the GPU\n",
    "mpas32.sshCurrent[:] = initialSSH[:]\n",
    "mpas32.normalVelocityCurrent[:] = initialNormalVelocity[:]\n",
    "moveArrays!(mpas32, CUDA.CuArray)\n",
    "gpubench = @benchmark forward_backward_step_cuda!(mpas32)"
   ]
  },
  {
   "cell_type": "code",
   "execution_count": 21,
   "id": "d2ef05f2-66ed-4b9e-a83d-8daf6d479cf3",
   "metadata": {},
   "outputs": [
    {
     "data": {
      "text/plain": [
       "BechmarkTools.Trial: 210 samples with 1 evaluations.\n",
       " Range \u001b[90m(\u001b[39m\u001b[36m\u001b[1mmin\u001b[22m\u001b[39m … \u001b[35mmax\u001b[39m\u001b[90m):  \u001b[39m\u001b[36m\u001b[1m22.591 ms\u001b[22m\u001b[39m … \u001b[35m27.362 ms\u001b[39m  \u001b[90m┊\u001b[39m GC \u001b[90m(\u001b[39mmin … max\u001b[90m): \u001b[39m0.00% … 10.67%\n",
       " Time  \u001b[90m(\u001b[39m\u001b[34m\u001b[1mmedian\u001b[22m\u001b[39m\u001b[90m):     \u001b[39m\u001b[34m\u001b[1m22.699 ms              \u001b[22m\u001b[39m\u001b[90m┊\u001b[39m GC \u001b[90m(\u001b[39mmedian\u001b[90m):    \u001b[39m0.00%\n",
       " Time  \u001b[90m(\u001b[39m\u001b[32m\u001b[1mmean\u001b[22m\u001b[39m ± \u001b[32mσ\u001b[39m\u001b[90m):   \u001b[39m\u001b[32m\u001b[1m23.853 ms\u001b[22m\u001b[39m ± \u001b[32m 1.469 ms\u001b[39m  \u001b[90m┊\u001b[39m GC \u001b[90m(\u001b[39mmean ± σ\u001b[90m):  \u001b[39m4.82% ±  5.61%\n",
       "\n",
       "  \u001b[39m█\u001b[39m▃\u001b[34m \u001b[39m\u001b[39m \u001b[39m \u001b[39m \u001b[39m \u001b[39m \u001b[39m \u001b[39m \u001b[39m \u001b[39m \u001b[39m \u001b[39m \u001b[39m \u001b[39m \u001b[39m \u001b[39m \u001b[39m \u001b[39m \u001b[39m \u001b[32m \u001b[39m\u001b[39m \u001b[39m \u001b[39m \u001b[39m \u001b[39m \u001b[39m \u001b[39m \u001b[39m \u001b[39m \u001b[39m \u001b[39m \u001b[39m \u001b[39m \u001b[39m \u001b[39m \u001b[39m \u001b[39m \u001b[39m \u001b[39m \u001b[39m \u001b[39m \u001b[39m \u001b[39m \u001b[39m \u001b[39m \u001b[39m \u001b[39m \u001b[39m \u001b[39m \u001b[39m \u001b[39m \u001b[39m \u001b[39m \u001b[39m \u001b[39m \u001b[39m \u001b[39m \u001b[39m \u001b[39m \n",
       "  \u001b[39m█\u001b[39m█\u001b[34m▄\u001b[39m\u001b[39m▄\u001b[39m▂\u001b[39m▁\u001b[39m▁\u001b[39m▁\u001b[39m▁\u001b[39m▁\u001b[39m▁\u001b[39m▁\u001b[39m▁\u001b[39m▁\u001b[39m▁\u001b[39m▁\u001b[39m▁\u001b[39m▁\u001b[39m▁\u001b[39m▁\u001b[39m▁\u001b[32m▁\u001b[39m\u001b[39m▁\u001b[39m▁\u001b[39m▁\u001b[39m▁\u001b[39m▁\u001b[39m▁\u001b[39m▁\u001b[39m▁\u001b[39m▁\u001b[39m▁\u001b[39m▁\u001b[39m▂\u001b[39m▁\u001b[39m▁\u001b[39m▁\u001b[39m▁\u001b[39m▁\u001b[39m▁\u001b[39m▁\u001b[39m▁\u001b[39m▁\u001b[39m▁\u001b[39m▁\u001b[39m▁\u001b[39m▁\u001b[39m▁\u001b[39m▁\u001b[39m▃\u001b[39m█\u001b[39m▇\u001b[39m▄\u001b[39m▄\u001b[39m▂\u001b[39m▃\u001b[39m▂\u001b[39m▃\u001b[39m▂\u001b[39m \u001b[39m▂\n",
       "  22.6 ms\u001b[90m         Histogram: frequency by time\u001b[39m          26 ms \u001b[0m\u001b[1m<\u001b[22m\n",
       "\n",
       " Memory estimate\u001b[90m: \u001b[39m\u001b[33m17.28 MiB\u001b[39m, allocs estimate\u001b[90m: \u001b[39m\u001b[33m970201\u001b[39m."
      ]
     },
     "execution_count": 21,
     "metadata": {},
     "output_type": "execute_result"
    }
   ],
   "source": [
    "# benchmark time it takes to do a timestep on the CPU\n",
    "moveArrays!(mpas32, Array)\n",
    "mpas32.sshCurrent[:] = initialSSH[:]\n",
    "mpas32.normalVelocityCurrent[:] = initialNormalVelocity[:]\n",
    "cpubench = @benchmark forward_backward_step!(mpas32)"
   ]
  },
  {
   "cell_type": "code",
   "execution_count": 18,
   "id": "841faada-a111-49bb-8069-de752a80e01c",
   "metadata": {},
   "outputs": [
    {
     "data": {
      "text/plain": [
       "\"CUDA kernel evaluation is 522.0680016610622 times faster than the CPU evaluation on average\""
      ]
     },
     "execution_count": 18,
     "metadata": {},
     "output_type": "execute_result"
    }
   ],
   "source": [
    "\"CUDA kernel evaluation is $((sum(cpubench.times)/length(cpubench.times)) / (sum(gpubench.times)/length(gpubench.times))) times faster than the CPU evaluation on average\""
   ]
  },
  {
   "cell_type": "markdown",
   "id": "d17c2242-0f5b-4fb0-a04d-722b3cac7ae4",
   "metadata": {},
   "source": [
    "## double and single precision appear to result in the same speed\n",
    "This must be some mistake of the compiler converting them to the same type under the hood. It could be accelerated further using single-precision, possibly up to 8 times (current GPU hardware runs much faster on single precision.)"
   ]
  },
  {
   "cell_type": "code",
   "execution_count": 92,
   "id": "d3199128-cfac-4758-b638-6e62b3bc1c11",
   "metadata": {},
   "outputs": [
    {
     "name": "stdout",
     "output_type": "stream",
     "text": [
      "boundaryConditions\t\t\tVector{BoundaryCondition}\n",
      "sshCurrent\t\t\tVector{Float32}\n",
      "sshTendency\t\t\tVector{Float32}\n",
      "normalVelocityCurrent\t\t\tVector{Float32}\n",
      "normalVelocityTendency\t\t\tVector{Float32}\n",
      "bottomDepth\t\t\tVector{Float32}\n",
      "gravity\t\t\tFloat32\n",
      "dt\t\t\tFloat32\n",
      "nCells\t\t\tInt64\n",
      "cellsOnCell\t\t\tMatrix{Int32}\n",
      "edgesOnCell\t\t\tMatrix{Int32}\n",
      "verticesOnCell\t\t\tMatrix{Int32}\n",
      "kiteIndexOnCell\t\t\tMatrix{Int64}\n",
      "nEdgesOnCell\t\t\tVector{Int32}\n",
      "edgeSignOnCell\t\t\tMatrix{Int8}\n",
      "latCell\t\t\tVector{Float32}\n",
      "lonCell\t\t\tVector{Float32}\n",
      "xCell\t\t\tVector{Float32}\n",
      "yCell\t\t\tVector{Float32}\n",
      "areaCell\t\t\tVector{Float32}\n",
      "fCell\t\t\tVector{Float32}\n",
      "maxLevelCell\t\t\tVector{Int64}\n",
      "gridSpacing\t\t\tVector{Float32}\n",
      "boundaryCell\t\t\tMatrix{Int8}\n",
      "nEdges\t\t\tInt64\n",
      "cellsOnEdge\t\t\tMatrix{Int32}\n",
      "edgesOnEdge\t\t\tMatrix{Int32}\n",
      "verticesOnEdge\t\t\tMatrix{Int32}\n",
      "nEdgesOnEdge\t\t\tVector{Int32}\n",
      "xEdge\t\t\tVector{Float32}\n",
      "yEdge\t\t\tVector{Float32}\n",
      "dvEdge\t\t\tVector{Float32}\n",
      "dcEdge\t\t\tVector{Float32}\n",
      "fEdge\t\t\tVector{Float32}\n",
      "angleEdge\t\t\tVector{Float32}\n",
      "weightsOnEdge\t\t\tMatrix{Float32}\n",
      "maxLevelEdgeTop\t\t\tVector{Int64}\n",
      "maxLevelEdgeBot\t\t\tVector{Int64}\n",
      "boundaryEdge\t\t\tMatrix{Int8}\n",
      "edgeMask\t\t\tVector{Int8}\n",
      "nVertices\t\t\tInt64\n",
      "latVertex\t\t\tVector{Float32}\n",
      "lonVertex\t\t\tVector{Float32}\n",
      "xVertex\t\t\tVector{Float32}\n",
      "yVertex\t\t\tVector{Float32}\n",
      "vertexDegree\t\t\tInt64\n",
      "cellsOnVertex\t\t\tMatrix{Int32}\n",
      "edgesOnVertex\t\t\tMatrix{Int32}\n",
      "edgeSignOnVertex\t\t\tMatrix{Int8}\n",
      "fVertex\t\t\tVector{Float32}\n",
      "areaTriangle\t\t\tVector{Float32}\n",
      "kiteAreasOnVertex\t\t\tMatrix{Float32}\n",
      "maxLevelVertexTop\t\t\tVector{Int64}\n",
      "maxLevelVertexBot\t\t\tVector{Int64}\n",
      "boundaryVertex\t\t\tMatrix{Int8}\n",
      "nVertLevels\t\t\tInt64\n",
      "gridSpacingMagnitude\t\t\tFloat32\n",
      "lX\t\t\tFloat32\n",
      "lY\t\t\tFloat32\n",
      "nNonPeriodicBoundaryCells\t\t\tInt64\n",
      "nNonPeriodicBoundaryEdges\t\t\tInt64\n",
      "nNonPeriodicBoundaryVertices\t\t\tInt64\n"
     ]
    }
   ],
   "source": [
    "mpasOcean = mpas32\n",
    "moveArrays!(mpasOcean, Array)\n",
    "for fieldname in fieldnames(MPAS_Ocean)\n",
    "    println(fieldname, \"\\t\\t\\t\", typeof(getfield(mpasOcean, fieldname)))\n",
    "end"
   ]
  },
  {
   "cell_type": "code",
   "execution_count": null,
   "id": "f7810af4-45cf-45a3-9b5f-f456f1138b4a",
   "metadata": {},
   "outputs": [],
   "source": []
  },
  {
   "cell_type": "code",
   "execution_count": 83,
   "id": "aeb98b8a-57d0-4b5d-8924-91cc496ef2d5",
   "metadata": {},
   "outputs": [
    {
     "data": {
      "text/plain": [
       "just_show_precision (generic function with 1 method)"
      ]
     },
     "execution_count": 83,
     "metadata": {},
     "output_type": "execute_result"
    }
   ],
   "source": [
    "function just_show_precision(array)\n",
    "    CUDA.@cushow typeof(array)\n",
    "    CUDA.@cushow eltype(array)\n",
    "    square = array .* array\n",
    "    CUDA.@cushow typeof(square)\n",
    "    CUDA.@cushow eltype(square)\n",
    "    return nothing\n",
    "end"
   ]
  },
  {
   "cell_type": "code",
   "execution_count": 84,
   "id": "ad89efd9-975a-4b64-b3d2-73e57fef9636",
   "metadata": {},
   "outputs": [
    {
     "name": "stderr",
     "output_type": "stream",
     "text": [
      "┌ Error: @cuprint does not support non-literal strings\n",
      "└ @ CUDA /home/rrs/.julia/packages/CUDA/02Kjq/src/device/intrinsics/output.jl:166\n",
      "┌ Error: @cuprint does not support non-literal strings\n",
      "└ @ CUDA /home/rrs/.julia/packages/CUDA/02Kjq/src/device/intrinsics/output.jl:166\n",
      "┌ Error: @cuprint does not support non-literal strings\n",
      "└ @ CUDA /home/rrs/.julia/packages/CUDA/02Kjq/src/device/intrinsics/output.jl:166\n",
      "┌ Error: @cuprint does not support non-literal strings\n",
      "└ @ CUDA /home/rrs/.julia/packages/CUDA/02Kjq/src/device/intrinsics/output.jl:166\n"
     ]
    },
    {
     "ename": "LoadError",
     "evalue": "InvalidIRError: compiling kernel just_show_precision(CUDA.CuDeviceVector{Float32, 1}) resulted in invalid LLVM IR\nReason: unsupported call through a literal pointer (call to )\nStacktrace:\n [1] \u001b[0m\u001b[1m_string_n\u001b[22m\n\u001b[90m   @ \u001b[39m\u001b[90m./strings/\u001b[39m\u001b[90;4mstring.jl:74\u001b[0m\n [2] \u001b[0m\u001b[1mStringVector\u001b[22m\n\u001b[90m   @ \u001b[39m\u001b[90m./\u001b[39m\u001b[90;4miobuffer.jl:31\u001b[0m\n [3] \u001b[0m\u001b[1m#IOBuffer#361\u001b[22m\n\u001b[90m   @ \u001b[39m\u001b[90m./\u001b[39m\u001b[90;4miobuffer.jl:114\u001b[0m\n [4] \u001b[0m\u001b[1mprint_to_string\u001b[22m\n\u001b[90m   @ \u001b[39m\u001b[90m./strings/\u001b[39m\u001b[90;4mio.jl:133\u001b[0m\n [5] \u001b[0m\u001b[1mmultiple call sites\u001b[22m\n\u001b[90m   @ \u001b[39m\u001b[90;4munknown:0\u001b[0m\nReason: unsupported call through a literal pointer (call to )\nStacktrace:\n [1] \u001b[0m\u001b[1munsafe_wrap\u001b[22m\n\u001b[90m   @ \u001b[39m\u001b[90m./strings/\u001b[39m\u001b[90;4mstring.jl:85\u001b[0m\n [2] \u001b[0m\u001b[1mStringVector\u001b[22m\n\u001b[90m   @ \u001b[39m\u001b[90m./\u001b[39m\u001b[90;4miobuffer.jl:31\u001b[0m\n [3] \u001b[0m\u001b[1m#IOBuffer#361\u001b[22m\n\u001b[90m   @ \u001b[39m\u001b[90m./\u001b[39m\u001b[90;4miobuffer.jl:114\u001b[0m\n [4] \u001b[0m\u001b[1mprint_to_string\u001b[22m\n\u001b[90m   @ \u001b[39m\u001b[90m./strings/\u001b[39m\u001b[90;4mio.jl:133\u001b[0m\n [5] \u001b[0m\u001b[1mmultiple call sites\u001b[22m\n\u001b[90m   @ \u001b[39m\u001b[90;4munknown:0\u001b[0m\nReason: unsupported call through a literal pointer (call to )\nStacktrace:\n [1] \u001b[0m\u001b[1mfill!\u001b[22m\n\u001b[90m   @ \u001b[39m\u001b[90m./\u001b[39m\u001b[90;4marray.jl:406\u001b[0m\n [2] \u001b[0m\u001b[1m#IOBuffer#361\u001b[22m\n\u001b[90m   @ \u001b[39m\u001b[90m./\u001b[39m\u001b[90;4miobuffer.jl:121\u001b[0m\n [3] \u001b[0m\u001b[1mprint_to_string\u001b[22m\n\u001b[90m   @ \u001b[39m\u001b[90m./strings/\u001b[39m\u001b[90;4mio.jl:133\u001b[0m\n [4] \u001b[0m\u001b[1mmultiple call sites\u001b[22m\n\u001b[90m   @ \u001b[39m\u001b[90;4munknown:0\u001b[0m\nReason: unsupported dynamic function invocation (call to typename(a::DataType) in Base at essentials.jl:304)\nStacktrace:\n [1] \u001b[0m\u001b[1m_unaliascopy\u001b[22m\n\u001b[90m   @ \u001b[39m\u001b[90m./\u001b[39m\u001b[90;4mabstractarray.jl:1368\u001b[0m\n [2] \u001b[0m\u001b[1munaliascopy\u001b[22m\n\u001b[90m   @ \u001b[39m\u001b[90m./\u001b[39m\u001b[90;4mabstractarray.jl:1366\u001b[0m\n [3] \u001b[0m\u001b[1mmultiple call sites\u001b[22m\n\u001b[90m   @ \u001b[39m\u001b[90;4munknown:0\u001b[0m\nReason: unsupported call to the Julia runtime (call to jl_object_id_)\nStacktrace:\n [1] \u001b[0m\u001b[1mobjectid\u001b[22m\n\u001b[90m   @ \u001b[39m\u001b[90m./\u001b[39m\u001b[90;4mreflection.jl:291\u001b[0m\n [2] \u001b[0m\u001b[1mdataids\u001b[22m\n\u001b[90m   @ \u001b[39m\u001b[90m./\u001b[39m\u001b[90;4mabstractarray.jl:1407\u001b[0m\n [3] \u001b[0m\u001b[1mmightalias\u001b[22m\n\u001b[90m   @ \u001b[39m\u001b[90m./\u001b[39m\u001b[90;4mabstractarray.jl:1384\u001b[0m\n [4] \u001b[0m\u001b[1munalias\u001b[22m\n\u001b[90m   @ \u001b[39m\u001b[90m./\u001b[39m\u001b[90;4mabstractarray.jl:1349\u001b[0m\n [5] \u001b[0m\u001b[1mcopyto!\u001b[22m\n\u001b[90m   @ \u001b[39m\u001b[90m./\u001b[39m\u001b[90;4mabstractarray.jl:949\u001b[0m\n [6] \u001b[0m\u001b[1mcopymutable\u001b[22m\n\u001b[90m   @ \u001b[39m\u001b[90m./\u001b[39m\u001b[90;4mabstractarray.jl:1081\u001b[0m\n [7] \u001b[0m\u001b[1mcopy\u001b[22m\n\u001b[90m   @ \u001b[39m\u001b[90m./\u001b[39m\u001b[90;4mabstractarray.jl:1025\u001b[0m\n [8] \u001b[0m\u001b[1munaliascopy\u001b[22m\n\u001b[90m   @ \u001b[39m\u001b[90m./\u001b[39m\u001b[90;4mabstractarray.jl:1366\u001b[0m\n [9] \u001b[0m\u001b[1mmultiple call sites\u001b[22m\n\u001b[90m   @ \u001b[39m\u001b[90;4munknown:0\u001b[0m\nReason: unsupported call through a literal pointer (call to )\nStacktrace:\n [1] \u001b[0m\u001b[1mArray\u001b[22m\n\u001b[90m   @ \u001b[39m\u001b[90m./\u001b[39m\u001b[90;4mboot.jl:448\u001b[0m\n [2] \u001b[0m\u001b[1mArray\u001b[22m\n\u001b[90m   @ \u001b[39m\u001b[90m./\u001b[39m\u001b[90;4mboot.jl:457\u001b[0m\n [3] \u001b[0m\u001b[1msimilar\u001b[22m\n\u001b[90m   @ \u001b[39m\u001b[90m./\u001b[39m\u001b[90;4mabstractarray.jl:750\u001b[0m\n [4] \u001b[0m\u001b[1msimilar\u001b[22m\n\u001b[90m   @ \u001b[39m\u001b[90m./\u001b[39m\u001b[90;4mabstractarray.jl:739\u001b[0m\n [5] \u001b[0m\u001b[1msimilar\u001b[22m\n\u001b[90m   @ \u001b[39m\u001b[90m./\u001b[39m\u001b[90;4mabstractarray.jl:738\u001b[0m\n [6] \u001b[0m\u001b[1mcopymutable\u001b[22m\n\u001b[90m   @ \u001b[39m\u001b[90m./\u001b[39m\u001b[90;4mabstractarray.jl:1081\u001b[0m\n [7] \u001b[0m\u001b[1mcopy\u001b[22m\n\u001b[90m   @ \u001b[39m\u001b[90m./\u001b[39m\u001b[90;4mabstractarray.jl:1025\u001b[0m\n [8] \u001b[0m\u001b[1munaliascopy\u001b[22m\n\u001b[90m   @ \u001b[39m\u001b[90m./\u001b[39m\u001b[90;4mabstractarray.jl:1366\u001b[0m\n [9] \u001b[0m\u001b[1mmultiple call sites\u001b[22m\n\u001b[90m   @ \u001b[39m\u001b[90;4munknown:0\u001b[0m\nReason: unsupported dynamic function invocation (call to print)\nStacktrace:\n [1] \u001b[0m\u001b[1mprint_to_string\u001b[22m\n\u001b[90m   @ \u001b[39m\u001b[90m./strings/\u001b[39m\u001b[90;4mio.jl:135\u001b[0m\n [2] \u001b[0m\u001b[1mmultiple call sites\u001b[22m\n\u001b[90m   @ \u001b[39m\u001b[90;4munknown:0\u001b[0m\nReason: unsupported call through a literal pointer (call to )\nStacktrace:\n [1] \u001b[0m\u001b[1m_growend!\u001b[22m\n\u001b[90m   @ \u001b[39m\u001b[90m./\u001b[39m\u001b[90;4marray.jl:884\u001b[0m\n [2] \u001b[0m\u001b[1mresize!\u001b[22m\n\u001b[90m   @ \u001b[39m\u001b[90m./\u001b[39m\u001b[90;4marray.jl:1104\u001b[0m\n [3] \u001b[0m\u001b[1mprint_to_string\u001b[22m\n\u001b[90m   @ \u001b[39m\u001b[90m./strings/\u001b[39m\u001b[90;4mio.jl:137\u001b[0m\n [4] \u001b[0m\u001b[1mmultiple call sites\u001b[22m\n\u001b[90m   @ \u001b[39m\u001b[90;4munknown:0\u001b[0m\nReason: unsupported call through a literal pointer (call to )\nStacktrace:\n [1] \u001b[0m\u001b[1m_deleteend!\u001b[22m\n\u001b[90m   @ \u001b[39m\u001b[90m./\u001b[39m\u001b[90;4marray.jl:893\u001b[0m\n [2] \u001b[0m\u001b[1mresize!\u001b[22m\n\u001b[90m   @ \u001b[39m\u001b[90m./\u001b[39m\u001b[90;4marray.jl:1109\u001b[0m\n [3] \u001b[0m\u001b[1mprint_to_string\u001b[22m\n\u001b[90m   @ \u001b[39m\u001b[90m./strings/\u001b[39m\u001b[90;4mio.jl:137\u001b[0m\n [4] \u001b[0m\u001b[1mmultiple call sites\u001b[22m\n\u001b[90m   @ \u001b[39m\u001b[90;4munknown:0\u001b[0m\nReason: unsupported call through a literal pointer (call to )\nStacktrace:\n [1] \u001b[0m\u001b[1mString\u001b[22m\n\u001b[90m   @ \u001b[39m\u001b[90m./strings/\u001b[39m\u001b[90;4mstring.jl:53\u001b[0m\n [2] \u001b[0m\u001b[1mprint_to_string\u001b[22m\n\u001b[90m   @ \u001b[39m\u001b[90m./strings/\u001b[39m\u001b[90;4mio.jl:137\u001b[0m\n [3] \u001b[0m\u001b[1mmultiple call sites\u001b[22m\n\u001b[90m   @ \u001b[39m\u001b[90;4munknown:0\u001b[0m\nReason: unsupported dynamic function invocation (call to print_to_string(xs...) in Base at strings/io.jl:124)\nStacktrace:\n [1] \u001b[0m\u001b[1mstring\u001b[22m\n\u001b[90m   @ \u001b[39m\u001b[90m./strings/\u001b[39m\u001b[90;4mio.jl:174\u001b[0m\n [2] \u001b[0m\u001b[1mmacro expansion\u001b[22m\n\u001b[90m   @ \u001b[39m\u001b[90m~/.julia/packages/CUDA/02Kjq/src/device/intrinsics/\u001b[39m\u001b[90;4moutput.jl:249\u001b[0m\n [3] \u001b[0m\u001b[1mjust_show_precision\u001b[22m\n\u001b[90m   @ \u001b[39m\u001b[90m./\u001b[39m\u001b[90;4mIn[83]:2\u001b[0m\nReason: unsupported dynamic function invocation (call to _cuprint(parts...) in CUDA at /home/rrs/.julia/packages/CUDA/02Kjq/src/device/intrinsics/output.jl:120)\nStacktrace:\n [1] \u001b[0m\u001b[1mmacro expansion\u001b[22m\n\u001b[90m   @ \u001b[39m\u001b[90m~/.julia/packages/CUDA/02Kjq/src/device/intrinsics/\u001b[39m\u001b[90;4moutput.jl:249\u001b[0m\n [2] \u001b[0m\u001b[1mjust_show_precision\u001b[22m\n\u001b[90m   @ \u001b[39m\u001b[90m./\u001b[39m\u001b[90;4mIn[83]:2\u001b[0m\nReason: unsupported dynamic function invocation (call to print_to_string(xs...) in Base at strings/io.jl:124)\nStacktrace:\n [1] \u001b[0m\u001b[1mstring\u001b[22m\n\u001b[90m   @ \u001b[39m\u001b[90m./strings/\u001b[39m\u001b[90;4mio.jl:174\u001b[0m\n [2] \u001b[0m\u001b[1mmacro expansion\u001b[22m\n\u001b[90m   @ \u001b[39m\u001b[90m~/.julia/packages/CUDA/02Kjq/src/device/intrinsics/\u001b[39m\u001b[90;4moutput.jl:249\u001b[0m\n [3] \u001b[0m\u001b[1mjust_show_precision\u001b[22m\n\u001b[90m   @ \u001b[39m\u001b[90m./\u001b[39m\u001b[90;4mIn[83]:3\u001b[0m\nReason: unsupported dynamic function invocation (call to _cuprint(parts...) in CUDA at /home/rrs/.julia/packages/CUDA/02Kjq/src/device/intrinsics/output.jl:120)\nStacktrace:\n [1] \u001b[0m\u001b[1mmacro expansion\u001b[22m\n\u001b[90m   @ \u001b[39m\u001b[90m~/.julia/packages/CUDA/02Kjq/src/device/intrinsics/\u001b[39m\u001b[90;4moutput.jl:249\u001b[0m\n [2] \u001b[0m\u001b[1mjust_show_precision\u001b[22m\n\u001b[90m   @ \u001b[39m\u001b[90m./\u001b[39m\u001b[90;4mIn[83]:3\u001b[0m\nReason: unsupported call through a literal pointer (call to )\nStacktrace:\n  [1] \u001b[0m\u001b[1mArray\u001b[22m\n\u001b[90m    @ \u001b[39m\u001b[90m./\u001b[39m\u001b[90;4mboot.jl:448\u001b[0m\n  [2] \u001b[0m\u001b[1mArray\u001b[22m\n\u001b[90m    @ \u001b[39m\u001b[90m./\u001b[39m\u001b[90;4mboot.jl:457\u001b[0m\n  [3] \u001b[0m\u001b[1mArray\u001b[22m\n\u001b[90m    @ \u001b[39m\u001b[90m./\u001b[39m\u001b[90;4mboot.jl:465\u001b[0m\n  [4] \u001b[0m\u001b[1msimilar\u001b[22m\n\u001b[90m    @ \u001b[39m\u001b[90m./\u001b[39m\u001b[90;4mabstractarray.jl:785\u001b[0m\n  [5] \u001b[0m\u001b[1msimilar\u001b[22m\n\u001b[90m    @ \u001b[39m\u001b[90m./\u001b[39m\u001b[90;4mabstractarray.jl:784\u001b[0m\n  [6] \u001b[0m\u001b[1msimilar\u001b[22m\n\u001b[90m    @ \u001b[39m\u001b[90m./\u001b[39m\u001b[90;4mbroadcast.jl:197\u001b[0m\n  [7] \u001b[0m\u001b[1msimilar\u001b[22m\n\u001b[90m    @ \u001b[39m\u001b[90m./\u001b[39m\u001b[90;4mbroadcast.jl:196\u001b[0m\n  [8] \u001b[0m\u001b[1mcopy\u001b[22m\n\u001b[90m    @ \u001b[39m\u001b[90m./\u001b[39m\u001b[90;4mbroadcast.jl:908\u001b[0m\n  [9] \u001b[0m\u001b[1mmaterialize\u001b[22m\n\u001b[90m    @ \u001b[39m\u001b[90m./\u001b[39m\u001b[90;4mbroadcast.jl:883\u001b[0m\n [10] \u001b[0m\u001b[1mjust_show_precision\u001b[22m\n\u001b[90m    @ \u001b[39m\u001b[90m./\u001b[39m\u001b[90;4mIn[83]:4\u001b[0m\nReason: unsupported call to the Julia runtime (call to jl_object_id_)\nStacktrace:\n  [1] \u001b[0m\u001b[1mobjectid\u001b[22m\n\u001b[90m    @ \u001b[39m\u001b[90m./\u001b[39m\u001b[90;4mreflection.jl:291\u001b[0m\n  [2] \u001b[0m\u001b[1mdataids\u001b[22m\n\u001b[90m    @ \u001b[39m\u001b[90m./\u001b[39m\u001b[90;4mabstractarray.jl:1407\u001b[0m\n  [3] \u001b[0m\u001b[1mmightalias\u001b[22m\n\u001b[90m    @ \u001b[39m\u001b[90m./\u001b[39m\u001b[90;4mabstractarray.jl:1384\u001b[0m\n  [4] \u001b[0m\u001b[1munalias\u001b[22m\n\u001b[90m    @ \u001b[39m\u001b[90m./\u001b[39m\u001b[90;4mabstractarray.jl:1349\u001b[0m\n  [5] \u001b[0m\u001b[1mbroadcast_unalias\u001b[22m\n\u001b[90m    @ \u001b[39m\u001b[90m./\u001b[39m\u001b[90;4mbroadcast.jl:957\u001b[0m\n  [6] \u001b[0m\u001b[1mpreprocess\u001b[22m\n\u001b[90m    @ \u001b[39m\u001b[90m./\u001b[39m\u001b[90;4mbroadcast.jl:964\u001b[0m\n  [7] \u001b[0m\u001b[1mpreprocess_args\u001b[22m\n\u001b[90m    @ \u001b[39m\u001b[90m./\u001b[39m\u001b[90;4mbroadcast.jl:966\u001b[0m\n  [8] \u001b[0m\u001b[1mpreprocess\u001b[22m\n\u001b[90m    @ \u001b[39m\u001b[90m./\u001b[39m\u001b[90;4mbroadcast.jl:963\u001b[0m\n  [9] \u001b[0m\u001b[1mcopyto!\u001b[22m\n\u001b[90m    @ \u001b[39m\u001b[90m./\u001b[39m\u001b[90;4mbroadcast.jl:980\u001b[0m\n [10] \u001b[0m\u001b[1mcopyto!\u001b[22m\n\u001b[90m    @ \u001b[39m\u001b[90m./\u001b[39m\u001b[90;4mbroadcast.jl:936\u001b[0m\n [11] \u001b[0m\u001b[1mcopy\u001b[22m\n\u001b[90m    @ \u001b[39m\u001b[90m./\u001b[39m\u001b[90;4mbroadcast.jl:908\u001b[0m\n [12] \u001b[0m\u001b[1mmaterialize\u001b[22m\n\u001b[90m    @ \u001b[39m\u001b[90m./\u001b[39m\u001b[90;4mbroadcast.jl:883\u001b[0m\n [13] \u001b[0m\u001b[1mjust_show_precision\u001b[22m\n\u001b[90m    @ \u001b[39m\u001b[90m./\u001b[39m\u001b[90;4mIn[83]:4\u001b[0m\nReason: unsupported call to the Julia runtime (call to jl_object_id_)\nStacktrace:\n  [1] \u001b[0m\u001b[1mobjectid\u001b[22m\n\u001b[90m    @ \u001b[39m\u001b[90m./\u001b[39m\u001b[90;4mreflection.jl:291\u001b[0m\n  [2] \u001b[0m\u001b[1mdataids\u001b[22m\n\u001b[90m    @ \u001b[39m\u001b[90m./\u001b[39m\u001b[90;4mabstractarray.jl:1407\u001b[0m\n  [3] \u001b[0m\u001b[1mmightalias\u001b[22m\n\u001b[90m    @ \u001b[39m\u001b[90m./\u001b[39m\u001b[90;4mabstractarray.jl:1384\u001b[0m\n  [4] \u001b[0m\u001b[1munalias\u001b[22m\n\u001b[90m    @ \u001b[39m\u001b[90m./\u001b[39m\u001b[90;4mabstractarray.jl:1349\u001b[0m\n  [5] \u001b[0m\u001b[1mbroadcast_unalias\u001b[22m\n\u001b[90m    @ \u001b[39m\u001b[90m./\u001b[39m\u001b[90;4mbroadcast.jl:957\u001b[0m\n  [6] \u001b[0m\u001b[1mpreprocess\u001b[22m\n\u001b[90m    @ \u001b[39m\u001b[90m./\u001b[39m\u001b[90;4mbroadcast.jl:964\u001b[0m\n  [7] \u001b[0m\u001b[1mpreprocess_args\u001b[22m\n\u001b[90m    @ \u001b[39m\u001b[90m./\u001b[39m\u001b[90;4mbroadcast.jl:967\u001b[0m\n  [8] \u001b[0m\u001b[1mpreprocess_args\u001b[22m\n\u001b[90m    @ \u001b[39m\u001b[90m./\u001b[39m\u001b[90;4mbroadcast.jl:966\u001b[0m\n  [9] \u001b[0m\u001b[1mpreprocess\u001b[22m\n\u001b[90m    @ \u001b[39m\u001b[90m./\u001b[39m\u001b[90;4mbroadcast.jl:963\u001b[0m\n [10] \u001b[0m\u001b[1mcopyto!\u001b[22m\n\u001b[90m    @ \u001b[39m\u001b[90m./\u001b[39m\u001b[90;4mbroadcast.jl:980\u001b[0m\n [11] \u001b[0m\u001b[1mcopyto!\u001b[22m\n\u001b[90m    @ \u001b[39m\u001b[90m./\u001b[39m\u001b[90;4mbroadcast.jl:936\u001b[0m\n [12] \u001b[0m\u001b[1mcopy\u001b[22m\n\u001b[90m    @ \u001b[39m\u001b[90m./\u001b[39m\u001b[90;4mbroadcast.jl:908\u001b[0m\n [13] \u001b[0m\u001b[1mmaterialize\u001b[22m\n\u001b[90m    @ \u001b[39m\u001b[90m./\u001b[39m\u001b[90;4mbroadcast.jl:883\u001b[0m\n [14] \u001b[0m\u001b[1mjust_show_precision\u001b[22m\n\u001b[90m    @ \u001b[39m\u001b[90m./\u001b[39m\u001b[90;4mIn[83]:4\u001b[0m\nReason: unsupported dynamic function invocation (call to print_to_string(xs...) in Base at strings/io.jl:124)\nStacktrace:\n [1] \u001b[0m\u001b[1mstring\u001b[22m\n\u001b[90m   @ \u001b[39m\u001b[90m./strings/\u001b[39m\u001b[90;4mio.jl:174\u001b[0m\n [2] \u001b[0m\u001b[1mmacro expansion\u001b[22m\n\u001b[90m   @ \u001b[39m\u001b[90m~/.julia/packages/CUDA/02Kjq/src/device/intrinsics/\u001b[39m\u001b[90;4moutput.jl:249\u001b[0m\n [3] \u001b[0m\u001b[1mjust_show_precision\u001b[22m\n\u001b[90m   @ \u001b[39m\u001b[90m./\u001b[39m\u001b[90;4mIn[83]:5\u001b[0m\nReason: unsupported dynamic function invocation (call to _cuprint(parts...) in CUDA at /home/rrs/.julia/packages/CUDA/02Kjq/src/device/intrinsics/output.jl:120)\nStacktrace:\n [1] \u001b[0m\u001b[1mmacro expansion\u001b[22m\n\u001b[90m   @ \u001b[39m\u001b[90m~/.julia/packages/CUDA/02Kjq/src/device/intrinsics/\u001b[39m\u001b[90;4moutput.jl:249\u001b[0m\n [2] \u001b[0m\u001b[1mjust_show_precision\u001b[22m\n\u001b[90m   @ \u001b[39m\u001b[90m./\u001b[39m\u001b[90;4mIn[83]:5\u001b[0m\nReason: unsupported dynamic function invocation (call to print_to_string(xs...) in Base at strings/io.jl:124)\nStacktrace:\n [1] \u001b[0m\u001b[1mstring\u001b[22m\n\u001b[90m   @ \u001b[39m\u001b[90m./strings/\u001b[39m\u001b[90;4mio.jl:174\u001b[0m\n [2] \u001b[0m\u001b[1mmacro expansion\u001b[22m\n\u001b[90m   @ \u001b[39m\u001b[90m~/.julia/packages/CUDA/02Kjq/src/device/intrinsics/\u001b[39m\u001b[90;4moutput.jl:249\u001b[0m\n [3] \u001b[0m\u001b[1mjust_show_precision\u001b[22m\n\u001b[90m   @ \u001b[39m\u001b[90m./\u001b[39m\u001b[90;4mIn[83]:6\u001b[0m\nReason: unsupported dynamic function invocation (call to _cuprint(parts...) in CUDA at /home/rrs/.julia/packages/CUDA/02Kjq/src/device/intrinsics/output.jl:120)\nStacktrace:\n [1] \u001b[0m\u001b[1mmacro expansion\u001b[22m\n\u001b[90m   @ \u001b[39m\u001b[90m~/.julia/packages/CUDA/02Kjq/src/device/intrinsics/\u001b[39m\u001b[90;4moutput.jl:249\u001b[0m\n [2] \u001b[0m\u001b[1mjust_show_precision\u001b[22m\n\u001b[90m   @ \u001b[39m\u001b[90m./\u001b[39m\u001b[90;4mIn[83]:6\u001b[0m",
     "output_type": "error",
     "traceback": [
      "InvalidIRError: compiling kernel just_show_precision(CUDA.CuDeviceVector{Float32, 1}) resulted in invalid LLVM IR\nReason: unsupported call through a literal pointer (call to )\nStacktrace:\n [1] \u001b[0m\u001b[1m_string_n\u001b[22m\n\u001b[90m   @ \u001b[39m\u001b[90m./strings/\u001b[39m\u001b[90;4mstring.jl:74\u001b[0m\n [2] \u001b[0m\u001b[1mStringVector\u001b[22m\n\u001b[90m   @ \u001b[39m\u001b[90m./\u001b[39m\u001b[90;4miobuffer.jl:31\u001b[0m\n [3] \u001b[0m\u001b[1m#IOBuffer#361\u001b[22m\n\u001b[90m   @ \u001b[39m\u001b[90m./\u001b[39m\u001b[90;4miobuffer.jl:114\u001b[0m\n [4] \u001b[0m\u001b[1mprint_to_string\u001b[22m\n\u001b[90m   @ \u001b[39m\u001b[90m./strings/\u001b[39m\u001b[90;4mio.jl:133\u001b[0m\n [5] \u001b[0m\u001b[1mmultiple call sites\u001b[22m\n\u001b[90m   @ \u001b[39m\u001b[90;4munknown:0\u001b[0m\nReason: unsupported call through a literal pointer (call to )\nStacktrace:\n [1] \u001b[0m\u001b[1munsafe_wrap\u001b[22m\n\u001b[90m   @ \u001b[39m\u001b[90m./strings/\u001b[39m\u001b[90;4mstring.jl:85\u001b[0m\n [2] \u001b[0m\u001b[1mStringVector\u001b[22m\n\u001b[90m   @ \u001b[39m\u001b[90m./\u001b[39m\u001b[90;4miobuffer.jl:31\u001b[0m\n [3] \u001b[0m\u001b[1m#IOBuffer#361\u001b[22m\n\u001b[90m   @ \u001b[39m\u001b[90m./\u001b[39m\u001b[90;4miobuffer.jl:114\u001b[0m\n [4] \u001b[0m\u001b[1mprint_to_string\u001b[22m\n\u001b[90m   @ \u001b[39m\u001b[90m./strings/\u001b[39m\u001b[90;4mio.jl:133\u001b[0m\n [5] \u001b[0m\u001b[1mmultiple call sites\u001b[22m\n\u001b[90m   @ \u001b[39m\u001b[90;4munknown:0\u001b[0m\nReason: unsupported call through a literal pointer (call to )\nStacktrace:\n [1] \u001b[0m\u001b[1mfill!\u001b[22m\n\u001b[90m   @ \u001b[39m\u001b[90m./\u001b[39m\u001b[90;4marray.jl:406\u001b[0m\n [2] \u001b[0m\u001b[1m#IOBuffer#361\u001b[22m\n\u001b[90m   @ \u001b[39m\u001b[90m./\u001b[39m\u001b[90;4miobuffer.jl:121\u001b[0m\n [3] \u001b[0m\u001b[1mprint_to_string\u001b[22m\n\u001b[90m   @ \u001b[39m\u001b[90m./strings/\u001b[39m\u001b[90;4mio.jl:133\u001b[0m\n [4] \u001b[0m\u001b[1mmultiple call sites\u001b[22m\n\u001b[90m   @ \u001b[39m\u001b[90;4munknown:0\u001b[0m\nReason: unsupported dynamic function invocation (call to typename(a::DataType) in Base at essentials.jl:304)\nStacktrace:\n [1] \u001b[0m\u001b[1m_unaliascopy\u001b[22m\n\u001b[90m   @ \u001b[39m\u001b[90m./\u001b[39m\u001b[90;4mabstractarray.jl:1368\u001b[0m\n [2] \u001b[0m\u001b[1munaliascopy\u001b[22m\n\u001b[90m   @ \u001b[39m\u001b[90m./\u001b[39m\u001b[90;4mabstractarray.jl:1366\u001b[0m\n [3] \u001b[0m\u001b[1mmultiple call sites\u001b[22m\n\u001b[90m   @ \u001b[39m\u001b[90;4munknown:0\u001b[0m\nReason: unsupported call to the Julia runtime (call to jl_object_id_)\nStacktrace:\n [1] \u001b[0m\u001b[1mobjectid\u001b[22m\n\u001b[90m   @ \u001b[39m\u001b[90m./\u001b[39m\u001b[90;4mreflection.jl:291\u001b[0m\n [2] \u001b[0m\u001b[1mdataids\u001b[22m\n\u001b[90m   @ \u001b[39m\u001b[90m./\u001b[39m\u001b[90;4mabstractarray.jl:1407\u001b[0m\n [3] \u001b[0m\u001b[1mmightalias\u001b[22m\n\u001b[90m   @ \u001b[39m\u001b[90m./\u001b[39m\u001b[90;4mabstractarray.jl:1384\u001b[0m\n [4] \u001b[0m\u001b[1munalias\u001b[22m\n\u001b[90m   @ \u001b[39m\u001b[90m./\u001b[39m\u001b[90;4mabstractarray.jl:1349\u001b[0m\n [5] \u001b[0m\u001b[1mcopyto!\u001b[22m\n\u001b[90m   @ \u001b[39m\u001b[90m./\u001b[39m\u001b[90;4mabstractarray.jl:949\u001b[0m\n [6] \u001b[0m\u001b[1mcopymutable\u001b[22m\n\u001b[90m   @ \u001b[39m\u001b[90m./\u001b[39m\u001b[90;4mabstractarray.jl:1081\u001b[0m\n [7] \u001b[0m\u001b[1mcopy\u001b[22m\n\u001b[90m   @ \u001b[39m\u001b[90m./\u001b[39m\u001b[90;4mabstractarray.jl:1025\u001b[0m\n [8] \u001b[0m\u001b[1munaliascopy\u001b[22m\n\u001b[90m   @ \u001b[39m\u001b[90m./\u001b[39m\u001b[90;4mabstractarray.jl:1366\u001b[0m\n [9] \u001b[0m\u001b[1mmultiple call sites\u001b[22m\n\u001b[90m   @ \u001b[39m\u001b[90;4munknown:0\u001b[0m\nReason: unsupported call through a literal pointer (call to )\nStacktrace:\n [1] \u001b[0m\u001b[1mArray\u001b[22m\n\u001b[90m   @ \u001b[39m\u001b[90m./\u001b[39m\u001b[90;4mboot.jl:448\u001b[0m\n [2] \u001b[0m\u001b[1mArray\u001b[22m\n\u001b[90m   @ \u001b[39m\u001b[90m./\u001b[39m\u001b[90;4mboot.jl:457\u001b[0m\n [3] \u001b[0m\u001b[1msimilar\u001b[22m\n\u001b[90m   @ \u001b[39m\u001b[90m./\u001b[39m\u001b[90;4mabstractarray.jl:750\u001b[0m\n [4] \u001b[0m\u001b[1msimilar\u001b[22m\n\u001b[90m   @ \u001b[39m\u001b[90m./\u001b[39m\u001b[90;4mabstractarray.jl:739\u001b[0m\n [5] \u001b[0m\u001b[1msimilar\u001b[22m\n\u001b[90m   @ \u001b[39m\u001b[90m./\u001b[39m\u001b[90;4mabstractarray.jl:738\u001b[0m\n [6] \u001b[0m\u001b[1mcopymutable\u001b[22m\n\u001b[90m   @ \u001b[39m\u001b[90m./\u001b[39m\u001b[90;4mabstractarray.jl:1081\u001b[0m\n [7] \u001b[0m\u001b[1mcopy\u001b[22m\n\u001b[90m   @ \u001b[39m\u001b[90m./\u001b[39m\u001b[90;4mabstractarray.jl:1025\u001b[0m\n [8] \u001b[0m\u001b[1munaliascopy\u001b[22m\n\u001b[90m   @ \u001b[39m\u001b[90m./\u001b[39m\u001b[90;4mabstractarray.jl:1366\u001b[0m\n [9] \u001b[0m\u001b[1mmultiple call sites\u001b[22m\n\u001b[90m   @ \u001b[39m\u001b[90;4munknown:0\u001b[0m\nReason: unsupported dynamic function invocation (call to print)\nStacktrace:\n [1] \u001b[0m\u001b[1mprint_to_string\u001b[22m\n\u001b[90m   @ \u001b[39m\u001b[90m./strings/\u001b[39m\u001b[90;4mio.jl:135\u001b[0m\n [2] \u001b[0m\u001b[1mmultiple call sites\u001b[22m\n\u001b[90m   @ \u001b[39m\u001b[90;4munknown:0\u001b[0m\nReason: unsupported call through a literal pointer (call to )\nStacktrace:\n [1] \u001b[0m\u001b[1m_growend!\u001b[22m\n\u001b[90m   @ \u001b[39m\u001b[90m./\u001b[39m\u001b[90;4marray.jl:884\u001b[0m\n [2] \u001b[0m\u001b[1mresize!\u001b[22m\n\u001b[90m   @ \u001b[39m\u001b[90m./\u001b[39m\u001b[90;4marray.jl:1104\u001b[0m\n [3] \u001b[0m\u001b[1mprint_to_string\u001b[22m\n\u001b[90m   @ \u001b[39m\u001b[90m./strings/\u001b[39m\u001b[90;4mio.jl:137\u001b[0m\n [4] \u001b[0m\u001b[1mmultiple call sites\u001b[22m\n\u001b[90m   @ \u001b[39m\u001b[90;4munknown:0\u001b[0m\nReason: unsupported call through a literal pointer (call to )\nStacktrace:\n [1] \u001b[0m\u001b[1m_deleteend!\u001b[22m\n\u001b[90m   @ \u001b[39m\u001b[90m./\u001b[39m\u001b[90;4marray.jl:893\u001b[0m\n [2] \u001b[0m\u001b[1mresize!\u001b[22m\n\u001b[90m   @ \u001b[39m\u001b[90m./\u001b[39m\u001b[90;4marray.jl:1109\u001b[0m\n [3] \u001b[0m\u001b[1mprint_to_string\u001b[22m\n\u001b[90m   @ \u001b[39m\u001b[90m./strings/\u001b[39m\u001b[90;4mio.jl:137\u001b[0m\n [4] \u001b[0m\u001b[1mmultiple call sites\u001b[22m\n\u001b[90m   @ \u001b[39m\u001b[90;4munknown:0\u001b[0m\nReason: unsupported call through a literal pointer (call to )\nStacktrace:\n [1] \u001b[0m\u001b[1mString\u001b[22m\n\u001b[90m   @ \u001b[39m\u001b[90m./strings/\u001b[39m\u001b[90;4mstring.jl:53\u001b[0m\n [2] \u001b[0m\u001b[1mprint_to_string\u001b[22m\n\u001b[90m   @ \u001b[39m\u001b[90m./strings/\u001b[39m\u001b[90;4mio.jl:137\u001b[0m\n [3] \u001b[0m\u001b[1mmultiple call sites\u001b[22m\n\u001b[90m   @ \u001b[39m\u001b[90;4munknown:0\u001b[0m\nReason: unsupported dynamic function invocation (call to print_to_string(xs...) in Base at strings/io.jl:124)\nStacktrace:\n [1] \u001b[0m\u001b[1mstring\u001b[22m\n\u001b[90m   @ \u001b[39m\u001b[90m./strings/\u001b[39m\u001b[90;4mio.jl:174\u001b[0m\n [2] \u001b[0m\u001b[1mmacro expansion\u001b[22m\n\u001b[90m   @ \u001b[39m\u001b[90m~/.julia/packages/CUDA/02Kjq/src/device/intrinsics/\u001b[39m\u001b[90;4moutput.jl:249\u001b[0m\n [3] \u001b[0m\u001b[1mjust_show_precision\u001b[22m\n\u001b[90m   @ \u001b[39m\u001b[90m./\u001b[39m\u001b[90;4mIn[83]:2\u001b[0m\nReason: unsupported dynamic function invocation (call to _cuprint(parts...) in CUDA at /home/rrs/.julia/packages/CUDA/02Kjq/src/device/intrinsics/output.jl:120)\nStacktrace:\n [1] \u001b[0m\u001b[1mmacro expansion\u001b[22m\n\u001b[90m   @ \u001b[39m\u001b[90m~/.julia/packages/CUDA/02Kjq/src/device/intrinsics/\u001b[39m\u001b[90;4moutput.jl:249\u001b[0m\n [2] \u001b[0m\u001b[1mjust_show_precision\u001b[22m\n\u001b[90m   @ \u001b[39m\u001b[90m./\u001b[39m\u001b[90;4mIn[83]:2\u001b[0m\nReason: unsupported dynamic function invocation (call to print_to_string(xs...) in Base at strings/io.jl:124)\nStacktrace:\n [1] \u001b[0m\u001b[1mstring\u001b[22m\n\u001b[90m   @ \u001b[39m\u001b[90m./strings/\u001b[39m\u001b[90;4mio.jl:174\u001b[0m\n [2] \u001b[0m\u001b[1mmacro expansion\u001b[22m\n\u001b[90m   @ \u001b[39m\u001b[90m~/.julia/packages/CUDA/02Kjq/src/device/intrinsics/\u001b[39m\u001b[90;4moutput.jl:249\u001b[0m\n [3] \u001b[0m\u001b[1mjust_show_precision\u001b[22m\n\u001b[90m   @ \u001b[39m\u001b[90m./\u001b[39m\u001b[90;4mIn[83]:3\u001b[0m\nReason: unsupported dynamic function invocation (call to _cuprint(parts...) in CUDA at /home/rrs/.julia/packages/CUDA/02Kjq/src/device/intrinsics/output.jl:120)\nStacktrace:\n [1] \u001b[0m\u001b[1mmacro expansion\u001b[22m\n\u001b[90m   @ \u001b[39m\u001b[90m~/.julia/packages/CUDA/02Kjq/src/device/intrinsics/\u001b[39m\u001b[90;4moutput.jl:249\u001b[0m\n [2] \u001b[0m\u001b[1mjust_show_precision\u001b[22m\n\u001b[90m   @ \u001b[39m\u001b[90m./\u001b[39m\u001b[90;4mIn[83]:3\u001b[0m\nReason: unsupported call through a literal pointer (call to )\nStacktrace:\n  [1] \u001b[0m\u001b[1mArray\u001b[22m\n\u001b[90m    @ \u001b[39m\u001b[90m./\u001b[39m\u001b[90;4mboot.jl:448\u001b[0m\n  [2] \u001b[0m\u001b[1mArray\u001b[22m\n\u001b[90m    @ \u001b[39m\u001b[90m./\u001b[39m\u001b[90;4mboot.jl:457\u001b[0m\n  [3] \u001b[0m\u001b[1mArray\u001b[22m\n\u001b[90m    @ \u001b[39m\u001b[90m./\u001b[39m\u001b[90;4mboot.jl:465\u001b[0m\n  [4] \u001b[0m\u001b[1msimilar\u001b[22m\n\u001b[90m    @ \u001b[39m\u001b[90m./\u001b[39m\u001b[90;4mabstractarray.jl:785\u001b[0m\n  [5] \u001b[0m\u001b[1msimilar\u001b[22m\n\u001b[90m    @ \u001b[39m\u001b[90m./\u001b[39m\u001b[90;4mabstractarray.jl:784\u001b[0m\n  [6] \u001b[0m\u001b[1msimilar\u001b[22m\n\u001b[90m    @ \u001b[39m\u001b[90m./\u001b[39m\u001b[90;4mbroadcast.jl:197\u001b[0m\n  [7] \u001b[0m\u001b[1msimilar\u001b[22m\n\u001b[90m    @ \u001b[39m\u001b[90m./\u001b[39m\u001b[90;4mbroadcast.jl:196\u001b[0m\n  [8] \u001b[0m\u001b[1mcopy\u001b[22m\n\u001b[90m    @ \u001b[39m\u001b[90m./\u001b[39m\u001b[90;4mbroadcast.jl:908\u001b[0m\n  [9] \u001b[0m\u001b[1mmaterialize\u001b[22m\n\u001b[90m    @ \u001b[39m\u001b[90m./\u001b[39m\u001b[90;4mbroadcast.jl:883\u001b[0m\n [10] \u001b[0m\u001b[1mjust_show_precision\u001b[22m\n\u001b[90m    @ \u001b[39m\u001b[90m./\u001b[39m\u001b[90;4mIn[83]:4\u001b[0m\nReason: unsupported call to the Julia runtime (call to jl_object_id_)\nStacktrace:\n  [1] \u001b[0m\u001b[1mobjectid\u001b[22m\n\u001b[90m    @ \u001b[39m\u001b[90m./\u001b[39m\u001b[90;4mreflection.jl:291\u001b[0m\n  [2] \u001b[0m\u001b[1mdataids\u001b[22m\n\u001b[90m    @ \u001b[39m\u001b[90m./\u001b[39m\u001b[90;4mabstractarray.jl:1407\u001b[0m\n  [3] \u001b[0m\u001b[1mmightalias\u001b[22m\n\u001b[90m    @ \u001b[39m\u001b[90m./\u001b[39m\u001b[90;4mabstractarray.jl:1384\u001b[0m\n  [4] \u001b[0m\u001b[1munalias\u001b[22m\n\u001b[90m    @ \u001b[39m\u001b[90m./\u001b[39m\u001b[90;4mabstractarray.jl:1349\u001b[0m\n  [5] \u001b[0m\u001b[1mbroadcast_unalias\u001b[22m\n\u001b[90m    @ \u001b[39m\u001b[90m./\u001b[39m\u001b[90;4mbroadcast.jl:957\u001b[0m\n  [6] \u001b[0m\u001b[1mpreprocess\u001b[22m\n\u001b[90m    @ \u001b[39m\u001b[90m./\u001b[39m\u001b[90;4mbroadcast.jl:964\u001b[0m\n  [7] \u001b[0m\u001b[1mpreprocess_args\u001b[22m\n\u001b[90m    @ \u001b[39m\u001b[90m./\u001b[39m\u001b[90;4mbroadcast.jl:966\u001b[0m\n  [8] \u001b[0m\u001b[1mpreprocess\u001b[22m\n\u001b[90m    @ \u001b[39m\u001b[90m./\u001b[39m\u001b[90;4mbroadcast.jl:963\u001b[0m\n  [9] \u001b[0m\u001b[1mcopyto!\u001b[22m\n\u001b[90m    @ \u001b[39m\u001b[90m./\u001b[39m\u001b[90;4mbroadcast.jl:980\u001b[0m\n [10] \u001b[0m\u001b[1mcopyto!\u001b[22m\n\u001b[90m    @ \u001b[39m\u001b[90m./\u001b[39m\u001b[90;4mbroadcast.jl:936\u001b[0m\n [11] \u001b[0m\u001b[1mcopy\u001b[22m\n\u001b[90m    @ \u001b[39m\u001b[90m./\u001b[39m\u001b[90;4mbroadcast.jl:908\u001b[0m\n [12] \u001b[0m\u001b[1mmaterialize\u001b[22m\n\u001b[90m    @ \u001b[39m\u001b[90m./\u001b[39m\u001b[90;4mbroadcast.jl:883\u001b[0m\n [13] \u001b[0m\u001b[1mjust_show_precision\u001b[22m\n\u001b[90m    @ \u001b[39m\u001b[90m./\u001b[39m\u001b[90;4mIn[83]:4\u001b[0m\nReason: unsupported call to the Julia runtime (call to jl_object_id_)\nStacktrace:\n  [1] \u001b[0m\u001b[1mobjectid\u001b[22m\n\u001b[90m    @ \u001b[39m\u001b[90m./\u001b[39m\u001b[90;4mreflection.jl:291\u001b[0m\n  [2] \u001b[0m\u001b[1mdataids\u001b[22m\n\u001b[90m    @ \u001b[39m\u001b[90m./\u001b[39m\u001b[90;4mabstractarray.jl:1407\u001b[0m\n  [3] \u001b[0m\u001b[1mmightalias\u001b[22m\n\u001b[90m    @ \u001b[39m\u001b[90m./\u001b[39m\u001b[90;4mabstractarray.jl:1384\u001b[0m\n  [4] \u001b[0m\u001b[1munalias\u001b[22m\n\u001b[90m    @ \u001b[39m\u001b[90m./\u001b[39m\u001b[90;4mabstractarray.jl:1349\u001b[0m\n  [5] \u001b[0m\u001b[1mbroadcast_unalias\u001b[22m\n\u001b[90m    @ \u001b[39m\u001b[90m./\u001b[39m\u001b[90;4mbroadcast.jl:957\u001b[0m\n  [6] \u001b[0m\u001b[1mpreprocess\u001b[22m\n\u001b[90m    @ \u001b[39m\u001b[90m./\u001b[39m\u001b[90;4mbroadcast.jl:964\u001b[0m\n  [7] \u001b[0m\u001b[1mpreprocess_args\u001b[22m\n\u001b[90m    @ \u001b[39m\u001b[90m./\u001b[39m\u001b[90;4mbroadcast.jl:967\u001b[0m\n  [8] \u001b[0m\u001b[1mpreprocess_args\u001b[22m\n\u001b[90m    @ \u001b[39m\u001b[90m./\u001b[39m\u001b[90;4mbroadcast.jl:966\u001b[0m\n  [9] \u001b[0m\u001b[1mpreprocess\u001b[22m\n\u001b[90m    @ \u001b[39m\u001b[90m./\u001b[39m\u001b[90;4mbroadcast.jl:963\u001b[0m\n [10] \u001b[0m\u001b[1mcopyto!\u001b[22m\n\u001b[90m    @ \u001b[39m\u001b[90m./\u001b[39m\u001b[90;4mbroadcast.jl:980\u001b[0m\n [11] \u001b[0m\u001b[1mcopyto!\u001b[22m\n\u001b[90m    @ \u001b[39m\u001b[90m./\u001b[39m\u001b[90;4mbroadcast.jl:936\u001b[0m\n [12] \u001b[0m\u001b[1mcopy\u001b[22m\n\u001b[90m    @ \u001b[39m\u001b[90m./\u001b[39m\u001b[90;4mbroadcast.jl:908\u001b[0m\n [13] \u001b[0m\u001b[1mmaterialize\u001b[22m\n\u001b[90m    @ \u001b[39m\u001b[90m./\u001b[39m\u001b[90;4mbroadcast.jl:883\u001b[0m\n [14] \u001b[0m\u001b[1mjust_show_precision\u001b[22m\n\u001b[90m    @ \u001b[39m\u001b[90m./\u001b[39m\u001b[90;4mIn[83]:4\u001b[0m\nReason: unsupported dynamic function invocation (call to print_to_string(xs...) in Base at strings/io.jl:124)\nStacktrace:\n [1] \u001b[0m\u001b[1mstring\u001b[22m\n\u001b[90m   @ \u001b[39m\u001b[90m./strings/\u001b[39m\u001b[90;4mio.jl:174\u001b[0m\n [2] \u001b[0m\u001b[1mmacro expansion\u001b[22m\n\u001b[90m   @ \u001b[39m\u001b[90m~/.julia/packages/CUDA/02Kjq/src/device/intrinsics/\u001b[39m\u001b[90;4moutput.jl:249\u001b[0m\n [3] \u001b[0m\u001b[1mjust_show_precision\u001b[22m\n\u001b[90m   @ \u001b[39m\u001b[90m./\u001b[39m\u001b[90;4mIn[83]:5\u001b[0m\nReason: unsupported dynamic function invocation (call to _cuprint(parts...) in CUDA at /home/rrs/.julia/packages/CUDA/02Kjq/src/device/intrinsics/output.jl:120)\nStacktrace:\n [1] \u001b[0m\u001b[1mmacro expansion\u001b[22m\n\u001b[90m   @ \u001b[39m\u001b[90m~/.julia/packages/CUDA/02Kjq/src/device/intrinsics/\u001b[39m\u001b[90;4moutput.jl:249\u001b[0m\n [2] \u001b[0m\u001b[1mjust_show_precision\u001b[22m\n\u001b[90m   @ \u001b[39m\u001b[90m./\u001b[39m\u001b[90;4mIn[83]:5\u001b[0m\nReason: unsupported dynamic function invocation (call to print_to_string(xs...) in Base at strings/io.jl:124)\nStacktrace:\n [1] \u001b[0m\u001b[1mstring\u001b[22m\n\u001b[90m   @ \u001b[39m\u001b[90m./strings/\u001b[39m\u001b[90;4mio.jl:174\u001b[0m\n [2] \u001b[0m\u001b[1mmacro expansion\u001b[22m\n\u001b[90m   @ \u001b[39m\u001b[90m~/.julia/packages/CUDA/02Kjq/src/device/intrinsics/\u001b[39m\u001b[90;4moutput.jl:249\u001b[0m\n [3] \u001b[0m\u001b[1mjust_show_precision\u001b[22m\n\u001b[90m   @ \u001b[39m\u001b[90m./\u001b[39m\u001b[90;4mIn[83]:6\u001b[0m\nReason: unsupported dynamic function invocation (call to _cuprint(parts...) in CUDA at /home/rrs/.julia/packages/CUDA/02Kjq/src/device/intrinsics/output.jl:120)\nStacktrace:\n [1] \u001b[0m\u001b[1mmacro expansion\u001b[22m\n\u001b[90m   @ \u001b[39m\u001b[90m~/.julia/packages/CUDA/02Kjq/src/device/intrinsics/\u001b[39m\u001b[90;4moutput.jl:249\u001b[0m\n [2] \u001b[0m\u001b[1mjust_show_precision\u001b[22m\n\u001b[90m   @ \u001b[39m\u001b[90m./\u001b[39m\u001b[90;4mIn[83]:6\u001b[0m",
      "",
      "Stacktrace:",
      "  [1] check_ir(job::GPUCompiler.CompilerJob{GPUCompiler.PTXCompilerTarget, CUDA.CUDACompilerParams, GPUCompiler.FunctionSpec{typeof(just_show_precision), Tuple{CUDA.CuDeviceVector{Float32, 1}}}}, args::LLVM.Module)",
      "    @ GPUCompiler ~/.julia/packages/GPUCompiler/wHjqZ/src/validation.jl:111",
      "  [2] macro expansion",
      "    @ ~/.julia/packages/GPUCompiler/wHjqZ/src/driver.jl:319 [inlined]",
      "  [3] macro expansion",
      "    @ ~/.julia/packages/TimerOutputs/ZQ0rt/src/TimerOutput.jl:236 [inlined]",
      "  [4] macro expansion",
      "    @ ~/.julia/packages/GPUCompiler/wHjqZ/src/driver.jl:317 [inlined]",
      "  [5] emit_asm(job::GPUCompiler.CompilerJob, ir::LLVM.Module; strip::Bool, validate::Bool, format::LLVM.API.LLVMCodeGenFileType)",
      "    @ GPUCompiler ~/.julia/packages/GPUCompiler/wHjqZ/src/utils.jl:62",
      "  [6] cufunction_compile(job::GPUCompiler.CompilerJob)",
      "    @ CUDA ~/.julia/packages/CUDA/02Kjq/src/compiler/execution.jl:317",
      "  [7] cached_compilation(cache::Dict{UInt64, Any}, job::GPUCompiler.CompilerJob, compiler::typeof(CUDA.cufunction_compile), linker::typeof(CUDA.cufunction_link))",
      "    @ GPUCompiler ~/.julia/packages/GPUCompiler/wHjqZ/src/cache.jl:89",
      "  [8] cufunction(f::typeof(just_show_precision), tt::Type{Tuple{CUDA.CuDeviceVector{Float32, 1}}}; name::Nothing, kwargs::Base.Iterators.Pairs{Union{}, Union{}, Tuple{}, NamedTuple{(), Tuple{}}})",
      "    @ CUDA ~/.julia/packages/CUDA/02Kjq/src/compiler/execution.jl:288",
      "  [9] cufunction(f::typeof(just_show_precision), tt::Type{Tuple{CUDA.CuDeviceVector{Float32, 1}}})",
      "    @ CUDA ~/.julia/packages/CUDA/02Kjq/src/compiler/execution.jl:282",
      " [10] top-level scope",
      "    @ ~/.julia/packages/CUDA/02Kjq/src/compiler/execution.jl:102",
      " [11] eval",
      "    @ ./boot.jl:360 [inlined]",
      " [12] include_string(mapexpr::typeof(REPL.softscope), mod::Module, code::String, filename::String)",
      "    @ Base ./loading.jl:1094"
     ]
    }
   ],
   "source": [
    "moveArrays!(mpasOcean, CUDA.CuArray, Float32)\n",
    "CUDA.@cuda threads=500 blocks=20 just_show_precision(mpasOcean.sshCurrent)"
   ]
  },
  {
   "cell_type": "markdown",
   "id": "c3e76ed1-ae76-4002-92cc-c2ac8a35a2b9",
   "metadata": {},
   "source": [
    "### normal velocty tendency calculation only"
   ]
  },
  {
   "cell_type": "code",
   "execution_count": 21,
   "id": "1e0ebc72-cc7a-4e0e-8c30-79c9280d35b9",
   "metadata": {},
   "outputs": [
    {
     "data": {
      "text/plain": [
       "BechmarkTools.Trial: 10000 samples with 7 evaluations.\n",
       " Range \u001b[90m(\u001b[39m\u001b[36m\u001b[1mmin\u001b[22m\u001b[39m … \u001b[35mmax\u001b[39m\u001b[90m):  \u001b[39m\u001b[36m\u001b[1m 4.501 μs\u001b[22m\u001b[39m … \u001b[35m743.442 μs\u001b[39m  \u001b[90m┊\u001b[39m GC \u001b[90m(\u001b[39mmin … max\u001b[90m): \u001b[39m0.00% … 97.60%\n",
       " Time  \u001b[90m(\u001b[39m\u001b[34m\u001b[1mmedian\u001b[22m\u001b[39m\u001b[90m):     \u001b[39m\u001b[34m\u001b[1m20.223 μs               \u001b[22m\u001b[39m\u001b[90m┊\u001b[39m GC \u001b[90m(\u001b[39mmedian\u001b[90m):    \u001b[39m0.00%\n",
       " Time  \u001b[90m(\u001b[39m\u001b[32m\u001b[1mmean\u001b[22m\u001b[39m ± \u001b[32mσ\u001b[39m\u001b[90m):   \u001b[39m\u001b[32m\u001b[1m20.198 μs\u001b[22m\u001b[39m ± \u001b[32m 15.009 μs\u001b[39m  \u001b[90m┊\u001b[39m GC \u001b[90m(\u001b[39mmean ± σ\u001b[90m):  \u001b[39m1.43% ±  1.95%\n",
       "\n",
       "  \u001b[39m▃\u001b[39m \u001b[39m \u001b[39m \u001b[39m \u001b[39m \u001b[39m \u001b[39m \u001b[39m \u001b[39m \u001b[39m \u001b[39m \u001b[39m \u001b[39m \u001b[39m \u001b[39m \u001b[39m \u001b[39m \u001b[39m \u001b[39m \u001b[39m \u001b[39m \u001b[39m \u001b[39m \u001b[39m \u001b[39m \u001b[39m \u001b[39m \u001b[39m \u001b[39m \u001b[39m \u001b[39m \u001b[39m \u001b[39m \u001b[39m \u001b[39m \u001b[39m \u001b[39m \u001b[39m \u001b[39m \u001b[39m \u001b[39m \u001b[39m \u001b[39m \u001b[39m \u001b[39m \u001b[39m \u001b[39m \u001b[39m \u001b[39m \u001b[39m \u001b[32m \u001b[39m\u001b[39m▄\u001b[34m█\u001b[39m\u001b[39m \u001b[39m \u001b[39m \u001b[39m \u001b[39m \u001b[39m \u001b[39m \u001b[39m▁\n",
       "  \u001b[39m█\u001b[39m█\u001b[39m▄\u001b[39m▃\u001b[39m▁\u001b[39m▁\u001b[39m▄\u001b[39m▄\u001b[39m▄\u001b[39m▁\u001b[39m▄\u001b[39m▃\u001b[39m▁\u001b[39m▁\u001b[39m▁\u001b[39m▁\u001b[39m▃\u001b[39m▁\u001b[39m▁\u001b[39m▁\u001b[39m▁\u001b[39m▁\u001b[39m▁\u001b[39m▁\u001b[39m▁\u001b[39m▁\u001b[39m▁\u001b[39m▁\u001b[39m▁\u001b[39m▁\u001b[39m▃\u001b[39m▁\u001b[39m▁\u001b[39m▃\u001b[39m▁\u001b[39m▁\u001b[39m▁\u001b[39m▃\u001b[39m▁\u001b[39m▁\u001b[39m▁\u001b[39m▁\u001b[39m▃\u001b[39m▄\u001b[39m▄\u001b[39m▅\u001b[39m▇\u001b[39m▇\u001b[39m▆\u001b[39m▆\u001b[39m▆\u001b[32m▆\u001b[39m\u001b[39m█\u001b[34m█\u001b[39m\u001b[39m▆\u001b[39m▆\u001b[39m▆\u001b[39m▆\u001b[39m▆\u001b[39m▇\u001b[39m \u001b[39m█\n",
       "  4.5 μs\u001b[90m        \u001b[39m\u001b[90mHistogram: \u001b[39m\u001b[90m\u001b[1mlog(\u001b[22m\u001b[39m\u001b[90mfrequency\u001b[39m\u001b[90m\u001b[1m)\u001b[22m\u001b[39m\u001b[90m by time\u001b[39m      22.2 μs \u001b[0m\u001b[1m<\u001b[22m\n",
       "\n",
       " Memory estimate\u001b[90m: \u001b[39m\u001b[33m3.08 KiB\u001b[39m, allocs estimate\u001b[90m: \u001b[39m\u001b[33m57\u001b[39m."
      ]
     },
     "execution_count": 21,
     "metadata": {},
     "output_type": "execute_result"
    }
   ],
   "source": [
    "mpasOcean.sshCurrent[:] = initialSSH[:]\n",
    "mpasOcean.normalVelocityCurrent[:] = initialNormalVelocity[:]\n",
    "moveArrays!(mpasOcean, CUDA.CuArray)\n",
    "gpubench = @benchmark calculate_normal_velocity_tendency_cuda!(mpasOcean)"
   ]
  },
  {
   "cell_type": "code",
   "execution_count": 22,
   "id": "6b9e95d9-24f5-417a-869f-1d0beca37d67",
   "metadata": {},
   "outputs": [
    {
     "data": {
      "text/plain": [
       "BechmarkTools.Trial: 307 samples with 1 evaluations.\n",
       " Range \u001b[90m(\u001b[39m\u001b[36m\u001b[1mmin\u001b[22m\u001b[39m … \u001b[35mmax\u001b[39m\u001b[90m):  \u001b[39m\u001b[36m\u001b[1m14.158 ms\u001b[22m\u001b[39m … \u001b[35m21.202 ms\u001b[39m  \u001b[90m┊\u001b[39m GC \u001b[90m(\u001b[39mmin … max\u001b[90m): \u001b[39m0.00% … 19.17%\n",
       " Time  \u001b[90m(\u001b[39m\u001b[34m\u001b[1mmedian\u001b[22m\u001b[39m\u001b[90m):     \u001b[39m\u001b[34m\u001b[1m15.531 ms              \u001b[22m\u001b[39m\u001b[90m┊\u001b[39m GC \u001b[90m(\u001b[39mmedian\u001b[90m):    \u001b[39m0.00%\n",
       " Time  \u001b[90m(\u001b[39m\u001b[32m\u001b[1mmean\u001b[22m\u001b[39m ± \u001b[32mσ\u001b[39m\u001b[90m):   \u001b[39m\u001b[32m\u001b[1m16.294 ms\u001b[22m\u001b[39m ± \u001b[32m 1.730 ms\u001b[39m  \u001b[90m┊\u001b[39m GC \u001b[90m(\u001b[39mmean ± σ\u001b[90m):  \u001b[39m6.43% ±  9.40%\n",
       "\n",
       "  \u001b[39m \u001b[39m \u001b[39m \u001b[39m \u001b[39m \u001b[39m \u001b[39m \u001b[39m \u001b[39m▁\u001b[39m█\u001b[39m \u001b[39m \u001b[39m▄\u001b[34m▆\u001b[39m\u001b[39m \u001b[39m \u001b[39m \u001b[39m \u001b[39m \u001b[39m \u001b[32m \u001b[39m\u001b[39m \u001b[39m \u001b[39m \u001b[39m \u001b[39m \u001b[39m \u001b[39m \u001b[39m \u001b[39m \u001b[39m \u001b[39m \u001b[39m \u001b[39m \u001b[39m \u001b[39m \u001b[39m \u001b[39m \u001b[39m \u001b[39m \u001b[39m \u001b[39m \u001b[39m \u001b[39m \u001b[39m \u001b[39m \u001b[39m \u001b[39m \u001b[39m \u001b[39m \u001b[39m \u001b[39m \u001b[39m \u001b[39m \u001b[39m \u001b[39m \u001b[39m \u001b[39m \u001b[39m \u001b[39m \u001b[39m \n",
       "  \u001b[39m▄\u001b[39m▃\u001b[39m▄\u001b[39m▃\u001b[39m▅\u001b[39m▄\u001b[39m▄\u001b[39m▆\u001b[39m█\u001b[39m█\u001b[39m▅\u001b[39m█\u001b[39m█\u001b[34m█\u001b[39m\u001b[39m█\u001b[39m▆\u001b[39m▅\u001b[39m▅\u001b[39m▁\u001b[39m▂\u001b[32m▂\u001b[39m\u001b[39m▂\u001b[39m▂\u001b[39m▂\u001b[39m▁\u001b[39m▁\u001b[39m▁\u001b[39m▁\u001b[39m▂\u001b[39m▁\u001b[39m▂\u001b[39m▁\u001b[39m▁\u001b[39m▁\u001b[39m▁\u001b[39m▁\u001b[39m▁\u001b[39m▃\u001b[39m▃\u001b[39m▃\u001b[39m▃\u001b[39m▄\u001b[39m▃\u001b[39m▄\u001b[39m▃\u001b[39m▆\u001b[39m▅\u001b[39m▅\u001b[39m▃\u001b[39m▄\u001b[39m▂\u001b[39m▃\u001b[39m▂\u001b[39m▂\u001b[39m▄\u001b[39m▄\u001b[39m▂\u001b[39m▂\u001b[39m▂\u001b[39m \u001b[39m▃\n",
       "  14.2 ms\u001b[90m         Histogram: frequency by time\u001b[39m        20.3 ms \u001b[0m\u001b[1m<\u001b[22m\n",
       "\n",
       " Memory estimate\u001b[90m: \u001b[39m\u001b[33m13.24 MiB\u001b[39m, allocs estimate\u001b[90m: \u001b[39m\u001b[33m725293\u001b[39m."
      ]
     },
     "execution_count": 22,
     "metadata": {},
     "output_type": "execute_result"
    }
   ],
   "source": [
    "moveArrays!(mpasOcean, Array)\n",
    "mpasOcean.sshCurrent[:] = initialSSH[:]\n",
    "mpasOcean.normalVelocityCurrent[:] = initialNormalVelocity[:]\n",
    "cpubench = @benchmark calculate_normal_velocity_tendency!(mpasOcean)"
   ]
  },
  {
   "cell_type": "code",
   "execution_count": 23,
   "id": "efb5d065-cf97-4d4e-8697-6ca78f2183e6",
   "metadata": {},
   "outputs": [
    {
     "data": {
      "text/plain": [
       "\"CUDA kernel evaluation is 806.7136301657602 times faster than the CPU evaluation on average\""
      ]
     },
     "execution_count": 23,
     "metadata": {},
     "output_type": "execute_result"
    }
   ],
   "source": [
    "\"CUDA kernel evaluation is $((sum(cpubench.times)/length(cpubench.times)) / (sum(gpubench.times)/length(gpubench.times))) times faster than the CPU evaluation on average\""
   ]
  },
  {
   "cell_type": "code",
   "execution_count": null,
   "id": "78eecf3d-94d2-4395-96d7-750c7a65228e",
   "metadata": {},
   "outputs": [],
   "source": []
  },
  {
   "cell_type": "code",
   "execution_count": null,
   "id": "49b4641b-734f-4cc1-8d66-80e94a0f91f3",
   "metadata": {},
   "outputs": [],
   "source": []
  },
  {
   "cell_type": "markdown",
   "id": "7d8576e5-364c-4988-9286-dfe540e55026",
   "metadata": {},
   "source": [
    "### experimenting with making method more effecient"
   ]
  },
  {
   "cell_type": "code",
   "execution_count": 13,
   "id": "2ed0a515-35d5-4f65-9c45-1d97e03157e8",
   "metadata": {},
   "outputs": [
    {
     "data": {
      "text/plain": [
       "calculate_normal_velocity_tendency_cuda2! (generic function with 1 method)"
      ]
     },
     "execution_count": 13,
     "metadata": {},
     "output_type": "execute_result"
    }
   ],
   "source": [
    "function calculate_normal_velocity_tendency_cuda2!(mpasOcean::MPAS_Ocean)\n",
    "    \n",
    "    CUDA.@cuda blocks=cld(mpasOcean.nEdges, 1024) threads=1024 maxregs=64 calculate_normal_velocity_tendency_cuda_kernel2!(\n",
    "                                                                        mpasOcean.nEdges,\n",
    "                                                                        mpasOcean.normalVelocityTendency,\n",
    "                                                                        mpasOcean.normalVelocityCurrent,\n",
    "                                                                        mpasOcean.sshCurrent,\n",
    "                                                                        mpasOcean.cellsOnEdge,\n",
    "                                                                        mpasOcean.nEdgesOnEdge,\n",
    "                                                                        mpasOcean.edgesOnEdge,\n",
    "                                                                        mpasOcean.weightsOnEdge,\n",
    "                                                                        mpasOcean.fEdge,\n",
    "                                                                        mpasOcean.dcEdge,\n",
    "                                                                        mpasOcean.gravity)\n",
    "end"
   ]
  },
  {
   "cell_type": "code",
   "execution_count": 14,
   "id": "51ded0c5-010e-42c0-b0c6-acc3e44693d2",
   "metadata": {},
   "outputs": [
    {
     "data": {
      "text/plain": [
       "calculate_normal_velocity_tendency_cuda_kernel2! (generic function with 1 method)"
      ]
     },
     "execution_count": 14,
     "metadata": {},
     "output_type": "execute_result"
    }
   ],
   "source": [
    "function calculate_normal_velocity_tendency_cuda_kernel2!(nEdges,\n",
    "                                                          normalVelocityTendency,\n",
    "                                                          normalVelocity,\n",
    "                                                          ssh,\n",
    "                                                          cellsOnEdge,\n",
    "                                                          nEdgesOnEdge,\n",
    "                                                          edgesOnEdge,\n",
    "                                                          weightsOnEdge,\n",
    "                                                          fEdge,\n",
    "                                                          dcEdge,\n",
    "                                                          gravity)\n",
    "    \n",
    "    iEdge = (CUDA.blockIdx().x - 1) * CUDA.blockDim().x + CUDA.threadIdx().x\n",
    "    if iEdge <= nEdges\n",
    "        # read global memory into thread registers\n",
    "        cell1 = cellsOnEdge[1,iEdge]\n",
    "        ssh1 = ssh[cell1]\n",
    "        cell2 = cellsOnEdge[2,iEdge]\n",
    "        ssh2 = ssh[cell2]\n",
    "        dc = dcEdge[iEdge]\n",
    "        neoe = nEdgesOnEdge[iEdge]\n",
    "        \n",
    "#         eoes = edgesOnEdge[iEdge]\n",
    "        \n",
    "        \n",
    "        \n",
    "        # gravity term: take gradient of ssh across edge\n",
    "        tendency = gravity * ( ssh1 - ssh2 ) / dc\n",
    "\n",
    "        # coriolis term: combine norm. vel. of surrounding edges to approx. tangential vel.\n",
    "        for i = 1:neoe\n",
    "            eoe = edgesOnEdge[i,iEdge]\n",
    "            tendency += weightsOnEdge[i,iEdge] * normalVelocity[eoe] * fEdge[eoe]\n",
    "        end\n",
    "\n",
    "        normalVelocityTendency[iEdge] = tendency\n",
    "    end\n",
    "    return\n",
    "end"
   ]
  },
  {
   "cell_type": "code",
   "execution_count": 15,
   "id": "1fc4de33-b2b7-45fc-8479-fa777f8bde7d",
   "metadata": {},
   "outputs": [
    {
     "data": {
      "text/plain": [
       "calculate_ssh_tendency_cuda_kernel2! (generic function with 1 method)"
      ]
     },
     "execution_count": 15,
     "metadata": {},
     "output_type": "execute_result"
    }
   ],
   "source": [
    "function calculate_ssh_tendency_cuda_kernel2!(nCells,\n",
    "                                              sshTendency,\n",
    "                                              ssh,\n",
    "                                              normalVelocity,\n",
    "                                              bottomDepth,\n",
    "                                              nEdgesOnCell,\n",
    "                                              edgesOnCell,\n",
    "                                              cellsOnCell,\n",
    "                                              areaCell,\n",
    "                                              edgeSignOnCell,\n",
    "                                              dvEdge)\n",
    "    \n",
    "    iCell = (CUDA.blockIdx().x - 1) * CUDA.blockDim().x + CUDA.threadIdx().x\n",
    "    if iCell <= nCells\n",
    "        \n",
    "        sshTendency[iCell] = 0\n",
    "        \n",
    "        # sum flux through each edge of cell\n",
    "        for i in 1:nEdgesOnCell[iCell]\n",
    "            edgeID = edgesOnCell[i,iCell]\n",
    "            neighborCellID = cellsOnCell[i,iCell]\n",
    "\n",
    "            if neighborCellID !== 0\n",
    "                depth = ( bottomDepth[neighborCellID] + bottomDepth[iCell] ) / 2.0\n",
    "            else\n",
    "                depth = bottomDepth[iCell]\n",
    "            end\n",
    "            \n",
    "            flux = depth * normalVelocity[edgeID]\n",
    "            sshTendency[iCell] += flux * edgeSignOnCell[iCell,i] * dvEdge[edgeID] / areaCell[iCell]\n",
    "        end\n",
    "        \n",
    "    end\n",
    "    return\n",
    "end\n"
   ]
  },
  {
   "cell_type": "code",
   "execution_count": 16,
   "id": "f7ac8c2d-58fa-42bf-a4d9-b3b50aeaa9a8",
   "metadata": {},
   "outputs": [
    {
     "data": {
      "text/plain": [
       "BechmarkTools.Trial: 10000 samples with 7 evaluations.\n",
       " Range \u001b[90m(\u001b[39m\u001b[36m\u001b[1mmin\u001b[22m\u001b[39m … \u001b[35mmax\u001b[39m\u001b[90m):  \u001b[39m\u001b[36m\u001b[1m 4.347 μs\u001b[22m\u001b[39m … \u001b[35m732.013 μs\u001b[39m  \u001b[90m┊\u001b[39m GC \u001b[90m(\u001b[39mmin … max\u001b[90m): \u001b[39m0.00% … 97.58%\n",
       " Time  \u001b[90m(\u001b[39m\u001b[34m\u001b[1mmedian\u001b[22m\u001b[39m\u001b[90m):     \u001b[39m\u001b[34m\u001b[1m16.960 μs               \u001b[22m\u001b[39m\u001b[90m┊\u001b[39m GC \u001b[90m(\u001b[39mmedian\u001b[90m):    \u001b[39m0.00%\n",
       " Time  \u001b[90m(\u001b[39m\u001b[32m\u001b[1mmean\u001b[22m\u001b[39m ± \u001b[32mσ\u001b[39m\u001b[90m):   \u001b[39m\u001b[32m\u001b[1m17.270 μs\u001b[22m\u001b[39m ± \u001b[32m 14.179 μs\u001b[39m  \u001b[90m┊\u001b[39m GC \u001b[90m(\u001b[39mmean ± σ\u001b[90m):  \u001b[39m1.50% ±  1.95%\n",
       "\n",
       "  \u001b[39m▃\u001b[39m \u001b[39m \u001b[39m \u001b[39m \u001b[39m \u001b[39m \u001b[39m \u001b[39m \u001b[39m \u001b[39m \u001b[39m \u001b[39m \u001b[39m \u001b[39m \u001b[39m \u001b[39m \u001b[39m▂\u001b[34m█\u001b[39m\u001b[39m \u001b[39m \u001b[39m \u001b[39m \u001b[39m \u001b[39m \u001b[39m \u001b[39m \u001b[39m \u001b[39m \u001b[39m \u001b[39m \u001b[39m \u001b[39m \u001b[39m \u001b[39m \u001b[39m \u001b[39m \u001b[39m \u001b[39m \u001b[39m \u001b[39m \u001b[39m \u001b[39m \u001b[39m \u001b[39m \u001b[39m \u001b[39m \u001b[39m \u001b[39m \u001b[39m \u001b[39m \u001b[39m \u001b[39m \u001b[39m \u001b[39m \u001b[39m \u001b[39m \u001b[39m \u001b[39m \u001b[39m \u001b[39m \u001b[39m▁\n",
       "  \u001b[39m█\u001b[39m▅\u001b[39m▄\u001b[39m▆\u001b[39m▄\u001b[39m▄\u001b[39m▃\u001b[39m▄\u001b[39m▄\u001b[39m▅\u001b[39m▅\u001b[39m▅\u001b[39m▅\u001b[39m▇\u001b[39m▇\u001b[39m█\u001b[39m█\u001b[39m█\u001b[34m█\u001b[39m\u001b[39m█\u001b[39m█\u001b[39m▇\u001b[39m▇\u001b[39m▅\u001b[39m▅\u001b[39m▄\u001b[39m▄\u001b[39m▄\u001b[39m▄\u001b[39m▃\u001b[39m▄\u001b[39m▁\u001b[39m▄\u001b[39m▁\u001b[39m▃\u001b[39m▄\u001b[39m▄\u001b[39m▅\u001b[39m▄\u001b[39m▃\u001b[39m▃\u001b[39m▃\u001b[39m▃\u001b[39m▃\u001b[39m▄\u001b[39m▄\u001b[39m▅\u001b[39m▅\u001b[39m▅\u001b[39m▄\u001b[39m▁\u001b[39m▁\u001b[39m▁\u001b[39m▁\u001b[39m▁\u001b[39m▃\u001b[39m▄\u001b[39m▅\u001b[39m▅\u001b[39m▃\u001b[39m \u001b[39m█\n",
       "  4.35 μs\u001b[90m       \u001b[39m\u001b[90mHistogram: \u001b[39m\u001b[90m\u001b[1mlog(\u001b[22m\u001b[39m\u001b[90mfrequency\u001b[39m\u001b[90m\u001b[1m)\u001b[22m\u001b[39m\u001b[90m by time\u001b[39m      45.9 μs \u001b[0m\u001b[1m<\u001b[22m\n",
       "\n",
       " Memory estimate\u001b[90m: \u001b[39m\u001b[33m3.08 KiB\u001b[39m, allocs estimate\u001b[90m: \u001b[39m\u001b[33m57\u001b[39m."
      ]
     },
     "execution_count": 16,
     "metadata": {},
     "output_type": "execute_result"
    }
   ],
   "source": [
    "mpasOcean.sshCurrent[:] = initialSSH[:]\n",
    "mpasOcean.normalVelocityCurrent[:] = initialNormalVelocity[:]\n",
    "moveArrays!(mpasOcean, CUDA.CuArray)\n",
    "gpubench = @benchmark calculate_normal_velocity_tendency_cuda2!(mpasOcean)"
   ]
  },
  {
   "cell_type": "markdown",
   "id": "6c35985e-2a98-47ef-969a-be7488dd5260",
   "metadata": {},
   "source": [
    "17 microseconds rather than 20, a slight improvement"
   ]
  },
  {
   "cell_type": "code",
   "execution_count": null,
   "id": "eb814cdd-9de9-4cf0-9b75-2d32c605db64",
   "metadata": {},
   "outputs": [],
   "source": []
  },
  {
   "cell_type": "markdown",
   "id": "c33461b5-b8fa-409e-8ef2-68e114f2b83c",
   "metadata": {},
   "source": [
    "### ssh tendency calculation only"
   ]
  },
  {
   "cell_type": "code",
   "execution_count": 25,
   "id": "740f7b78-5a0e-4ffa-acd2-e89a3c964fa3",
   "metadata": {},
   "outputs": [
    {
     "data": {
      "text/plain": [
       "BechmarkTools.Trial: 10000 samples with 7 evaluations.\n",
       " Range \u001b[90m(\u001b[39m\u001b[36m\u001b[1mmin\u001b[22m\u001b[39m … \u001b[35mmax\u001b[39m\u001b[90m):  \u001b[39m\u001b[36m\u001b[1m 4.374 μs\u001b[22m\u001b[39m … \u001b[35m760.519 μs\u001b[39m  \u001b[90m┊\u001b[39m GC \u001b[90m(\u001b[39mmin … max\u001b[90m): \u001b[39m0.00% … 96.73%\n",
       " Time  \u001b[90m(\u001b[39m\u001b[34m\u001b[1mmedian\u001b[22m\u001b[39m\u001b[90m):     \u001b[39m\u001b[34m\u001b[1m27.183 μs               \u001b[22m\u001b[39m\u001b[90m┊\u001b[39m GC \u001b[90m(\u001b[39mmedian\u001b[90m):    \u001b[39m0.00%\n",
       " Time  \u001b[90m(\u001b[39m\u001b[32m\u001b[1mmean\u001b[22m\u001b[39m ± \u001b[32mσ\u001b[39m\u001b[90m):   \u001b[39m\u001b[32m\u001b[1m27.210 μs\u001b[22m\u001b[39m ± \u001b[32m 14.107 μs\u001b[39m  \u001b[90m┊\u001b[39m GC \u001b[90m(\u001b[39mmean ± σ\u001b[90m):  \u001b[39m0.81% ±  1.69%\n",
       "\n",
       "  \u001b[39m▃\u001b[39m \u001b[39m \u001b[39m \u001b[39m \u001b[39m \u001b[39m \u001b[39m \u001b[39m \u001b[39m \u001b[39m \u001b[39m \u001b[39m \u001b[39m \u001b[39m \u001b[39m \u001b[39m \u001b[39m \u001b[39m \u001b[39m \u001b[39m \u001b[39m \u001b[39m \u001b[39m \u001b[39m \u001b[39m \u001b[34m█\u001b[39m\u001b[39m \u001b[39m \u001b[39m \u001b[39m \u001b[39m \u001b[39m \u001b[39m \u001b[39m \u001b[39m \u001b[39m \u001b[39m \u001b[39m \u001b[39m \u001b[39m \u001b[39m \u001b[39m \u001b[39m \u001b[39m \u001b[39m \u001b[39m \u001b[39m \u001b[39m \u001b[39m \u001b[39m \u001b[39m \u001b[39m \u001b[39m \u001b[39m \u001b[39m \u001b[39m \u001b[39m \u001b[39m \u001b[39m \u001b[39m \u001b[39m▁\n",
       "  \u001b[39m█\u001b[39m▄\u001b[39m▄\u001b[39m▃\u001b[39m▁\u001b[39m▃\u001b[39m▃\u001b[39m▁\u001b[39m▁\u001b[39m▁\u001b[39m▁\u001b[39m▃\u001b[39m▁\u001b[39m▁\u001b[39m▁\u001b[39m▁\u001b[39m▁\u001b[39m▁\u001b[39m▃\u001b[39m▃\u001b[39m▁\u001b[39m▃\u001b[39m▄\u001b[39m▇\u001b[39m█\u001b[39m█\u001b[34m█\u001b[39m\u001b[39m█\u001b[39m▇\u001b[39m▄\u001b[39m▄\u001b[39m▁\u001b[39m▁\u001b[39m▁\u001b[39m▁\u001b[39m▁\u001b[39m▁\u001b[39m▁\u001b[39m▁\u001b[39m▁\u001b[39m▄\u001b[39m▁\u001b[39m▁\u001b[39m▃\u001b[39m▄\u001b[39m▄\u001b[39m▃\u001b[39m▁\u001b[39m▁\u001b[39m▁\u001b[39m▁\u001b[39m▁\u001b[39m▁\u001b[39m▄\u001b[39m▁\u001b[39m▅\u001b[39m▆\u001b[39m▄\u001b[39m▃\u001b[39m▆\u001b[39m \u001b[39m█\n",
       "  4.37 μs\u001b[90m       \u001b[39m\u001b[90mHistogram: \u001b[39m\u001b[90m\u001b[1mlog(\u001b[22m\u001b[39m\u001b[90mfrequency\u001b[39m\u001b[90m\u001b[1m)\u001b[22m\u001b[39m\u001b[90m by time\u001b[39m      56.2 μs \u001b[0m\u001b[1m<\u001b[22m\n",
       "\n",
       " Memory estimate\u001b[90m: \u001b[39m\u001b[33m3.11 KiB\u001b[39m, allocs estimate\u001b[90m: \u001b[39m\u001b[33m55\u001b[39m."
      ]
     },
     "execution_count": 25,
     "metadata": {},
     "output_type": "execute_result"
    }
   ],
   "source": [
    "mpasOcean.sshCurrent[:] = initialSSH[:]\n",
    "mpasOcean.normalVelocityCurrent[:] = initialNormalVelocity[:]\n",
    "moveArrays!(mpasOcean, CUDA.CuArray)\n",
    "gpubench = @benchmark calculate_ssh_tendency_cuda!(mpasOcean)"
   ]
  },
  {
   "cell_type": "code",
   "execution_count": 26,
   "id": "40b193e9-320f-4725-8d14-28e377bc14a0",
   "metadata": {},
   "outputs": [
    {
     "data": {
      "text/plain": [
       "BechmarkTools.Trial: 1283 samples with 1 evaluations.\n",
       " Range \u001b[90m(\u001b[39m\u001b[36m\u001b[1mmin\u001b[22m\u001b[39m … \u001b[35mmax\u001b[39m\u001b[90m):  \u001b[39m\u001b[36m\u001b[1m3.539 ms\u001b[22m\u001b[39m … \u001b[35m  7.596 ms\u001b[39m  \u001b[90m┊\u001b[39m GC \u001b[90m(\u001b[39mmin … max\u001b[90m): \u001b[39m0.00% … 41.13%\n",
       " Time  \u001b[90m(\u001b[39m\u001b[34m\u001b[1mmedian\u001b[22m\u001b[39m\u001b[90m):     \u001b[39m\u001b[34m\u001b[1m3.672 ms               \u001b[22m\u001b[39m\u001b[90m┊\u001b[39m GC \u001b[90m(\u001b[39mmedian\u001b[90m):    \u001b[39m0.00%\n",
       " Time  \u001b[90m(\u001b[39m\u001b[32m\u001b[1mmean\u001b[22m\u001b[39m ± \u001b[32mσ\u001b[39m\u001b[90m):   \u001b[39m\u001b[32m\u001b[1m3.895 ms\u001b[22m\u001b[39m ± \u001b[32m746.883 μs\u001b[39m  \u001b[90m┊\u001b[39m GC \u001b[90m(\u001b[39mmean ± σ\u001b[90m):  \u001b[39m5.31% ± 11.34%\n",
       "\n",
       "  \u001b[39m▂\u001b[39m▆\u001b[34m█\u001b[39m\u001b[39m▄\u001b[39m▄\u001b[39m▃\u001b[32m \u001b[39m\u001b[39m \u001b[39m \u001b[39m \u001b[39m \u001b[39m \u001b[39m \u001b[39m \u001b[39m \u001b[39m \u001b[39m \u001b[39m \u001b[39m \u001b[39m \u001b[39m \u001b[39m \u001b[39m \u001b[39m \u001b[39m \u001b[39m \u001b[39m \u001b[39m \u001b[39m \u001b[39m \u001b[39m \u001b[39m \u001b[39m \u001b[39m \u001b[39m \u001b[39m \u001b[39m \u001b[39m \u001b[39m \u001b[39m \u001b[39m \u001b[39m \u001b[39m \u001b[39m \u001b[39m \u001b[39m \u001b[39m \u001b[39m \u001b[39m \u001b[39m \u001b[39m \u001b[39m \u001b[39m \u001b[39m \u001b[39m▁\u001b[39m \u001b[39m \u001b[39m \u001b[39m \u001b[39m \u001b[39m \n",
       "  \u001b[39m█\u001b[39m█\u001b[34m█\u001b[39m\u001b[39m█\u001b[39m█\u001b[39m█\u001b[32m▇\u001b[39m\u001b[39m▅\u001b[39m▆\u001b[39m▆\u001b[39m▁\u001b[39m▁\u001b[39m▄\u001b[39m▄\u001b[39m▄\u001b[39m▄\u001b[39m▄\u001b[39m▁\u001b[39m▁\u001b[39m▅\u001b[39m▆\u001b[39m▄\u001b[39m▄\u001b[39m▁\u001b[39m▁\u001b[39m▁\u001b[39m▁\u001b[39m▁\u001b[39m▁\u001b[39m▁\u001b[39m▁\u001b[39m▁\u001b[39m▁\u001b[39m▁\u001b[39m▁\u001b[39m▁\u001b[39m▁\u001b[39m▁\u001b[39m▁\u001b[39m▁\u001b[39m▁\u001b[39m▁\u001b[39m▁\u001b[39m▁\u001b[39m▁\u001b[39m▁\u001b[39m▁\u001b[39m▁\u001b[39m▁\u001b[39m▁\u001b[39m▁\u001b[39m▄\u001b[39m▇\u001b[39m█\u001b[39m█\u001b[39m█\u001b[39m▇\u001b[39m▇\u001b[39m▆\u001b[39m \u001b[39m█\n",
       "  3.54 ms\u001b[90m      \u001b[39m\u001b[90mHistogram: \u001b[39m\u001b[90m\u001b[1mlog(\u001b[22m\u001b[39m\u001b[90mfrequency\u001b[39m\u001b[90m\u001b[1m)\u001b[22m\u001b[39m\u001b[90m by time\u001b[39m      6.69 ms \u001b[0m\u001b[1m<\u001b[22m\n",
       "\n",
       " Memory estimate\u001b[90m: \u001b[39m\u001b[33m3.81 MiB\u001b[39m, allocs estimate\u001b[90m: \u001b[39m\u001b[33m229892\u001b[39m."
      ]
     },
     "execution_count": 26,
     "metadata": {},
     "output_type": "execute_result"
    }
   ],
   "source": [
    "moveArrays!(mpasOcean, Array)\n",
    "mpasOcean.sshCurrent[:] = initialSSH[:]\n",
    "mpasOcean.normalVelocityCurrent[:] = initialNormalVelocity[:]\n",
    "cpubench = @benchmark calculate_ssh_tendency!(mpasOcean)"
   ]
  },
  {
   "cell_type": "code",
   "execution_count": 27,
   "id": "e15dcca4-6f62-422f-81cb-da13dfea9023",
   "metadata": {},
   "outputs": [
    {
     "data": {
      "text/plain": [
       "\"CUDA kernel evaluation is 143.1461720325683 times faster than the CPU evaluation on average\""
      ]
     },
     "execution_count": 27,
     "metadata": {},
     "output_type": "execute_result"
    }
   ],
   "source": [
    "\"CUDA kernel evaluation is $((sum(cpubench.times)/length(cpubench.times)) / (sum(gpubench.times)/length(gpubench.times))) times faster than the CPU evaluation on average\""
   ]
  },
  {
   "cell_type": "code",
   "execution_count": null,
   "id": "0bf22b5f-3d3c-4db9-a35c-ab7bdc52eec7",
   "metadata": {},
   "outputs": [],
   "source": []
  },
  {
   "cell_type": "markdown",
   "id": "ff89cb68-fb75-401b-9bfe-9656766f2284",
   "metadata": {},
   "source": [
    "### update norm vel"
   ]
  },
  {
   "cell_type": "code",
   "execution_count": 28,
   "id": "f57aff32-dd55-4733-a25e-10111c700e98",
   "metadata": {},
   "outputs": [
    {
     "data": {
      "text/plain": [
       "BechmarkTools.Trial: 10000 samples with 8 evaluations.\n",
       " Range \u001b[90m(\u001b[39m\u001b[36m\u001b[1mmin\u001b[22m\u001b[39m … \u001b[35mmax\u001b[39m\u001b[90m):  \u001b[39m\u001b[36m\u001b[1m3.152 μs\u001b[22m\u001b[39m … \u001b[35m735.304 μs\u001b[39m  \u001b[90m┊\u001b[39m GC \u001b[90m(\u001b[39mmin … max\u001b[90m): \u001b[39m0.00% … 99.27%\n",
       " Time  \u001b[90m(\u001b[39m\u001b[34m\u001b[1mmedian\u001b[22m\u001b[39m\u001b[90m):     \u001b[39m\u001b[34m\u001b[1m3.337 μs               \u001b[22m\u001b[39m\u001b[90m┊\u001b[39m GC \u001b[90m(\u001b[39mmedian\u001b[90m):    \u001b[39m0.00%\n",
       " Time  \u001b[90m(\u001b[39m\u001b[32m\u001b[1mmean\u001b[22m\u001b[39m ± \u001b[32mσ\u001b[39m\u001b[90m):   \u001b[39m\u001b[32m\u001b[1m3.535 μs\u001b[22m\u001b[39m ± \u001b[32m 10.279 μs\u001b[39m  \u001b[90m┊\u001b[39m GC \u001b[90m(\u001b[39mmean ± σ\u001b[90m):  \u001b[39m4.10% ±  1.40%\n",
       "\n",
       "  \u001b[39m \u001b[39m \u001b[39m \u001b[39m█\u001b[39m█\u001b[34m▇\u001b[39m\u001b[32m▅\u001b[39m\u001b[39m▁\u001b[39m \u001b[39m \u001b[39m \u001b[39m \u001b[39m \u001b[39m \u001b[39m \u001b[39m \u001b[39m \u001b[39m \u001b[39m \u001b[39m \u001b[39m \u001b[39m \u001b[39m \u001b[39m \u001b[39m \u001b[39m \u001b[39m \u001b[39m \u001b[39m \u001b[39m \u001b[39m \u001b[39m \u001b[39m \u001b[39m \u001b[39m \u001b[39m \u001b[39m \u001b[39m \u001b[39m \u001b[39m \u001b[39m \u001b[39m \u001b[39m \u001b[39m \u001b[39m \u001b[39m \u001b[39m \u001b[39m \u001b[39m \u001b[39m \u001b[39m \u001b[39m \u001b[39m \u001b[39m \u001b[39m \u001b[39m \u001b[39m \u001b[39m \u001b[39m \u001b[39m \u001b[39m \n",
       "  \u001b[39m▂\u001b[39m▂\u001b[39m▆\u001b[39m█\u001b[39m█\u001b[34m█\u001b[39m\u001b[32m█\u001b[39m\u001b[39m█\u001b[39m▆\u001b[39m▅\u001b[39m▄\u001b[39m▃\u001b[39m▃\u001b[39m▃\u001b[39m▃\u001b[39m▂\u001b[39m▂\u001b[39m▂\u001b[39m▂\u001b[39m▂\u001b[39m▂\u001b[39m▂\u001b[39m▂\u001b[39m▂\u001b[39m▂\u001b[39m▂\u001b[39m▂\u001b[39m▁\u001b[39m▂\u001b[39m▁\u001b[39m▁\u001b[39m▁\u001b[39m▁\u001b[39m▁\u001b[39m▁\u001b[39m▁\u001b[39m▁\u001b[39m▁\u001b[39m▁\u001b[39m▁\u001b[39m▁\u001b[39m▁\u001b[39m▁\u001b[39m▁\u001b[39m▁\u001b[39m▁\u001b[39m▁\u001b[39m▁\u001b[39m▁\u001b[39m▁\u001b[39m▂\u001b[39m▂\u001b[39m▂\u001b[39m▂\u001b[39m▂\u001b[39m▂\u001b[39m▂\u001b[39m▂\u001b[39m▂\u001b[39m \u001b[39m▃\n",
       "  3.15 μs\u001b[90m         Histogram: frequency by time\u001b[39m        5.14 μs \u001b[0m\u001b[1m<\u001b[22m\n",
       "\n",
       " Memory estimate\u001b[90m: \u001b[39m\u001b[33m1.39 KiB\u001b[39m, allocs estimate\u001b[90m: \u001b[39m\u001b[33m33\u001b[39m."
      ]
     },
     "execution_count": 28,
     "metadata": {},
     "output_type": "execute_result"
    }
   ],
   "source": [
    "mpasOcean.sshCurrent[:] = initialSSH[:]\n",
    "mpasOcean.normalVelocityCurrent[:] = initialNormalVelocity[:]\n",
    "moveArrays!(mpasOcean, CUDA.CuArray)\n",
    "gpubench = @benchmark update_normal_velocity_by_tendency_cuda!(mpasOcean)"
   ]
  },
  {
   "cell_type": "code",
   "execution_count": 29,
   "id": "58a56399-2a09-4d0b-be6e-bd6f72fe6985",
   "metadata": {},
   "outputs": [
    {
     "data": {
      "text/plain": [
       "BechmarkTools.Trial: 10000 samples with 10 evaluations.\n",
       " Range \u001b[90m(\u001b[39m\u001b[36m\u001b[1mmin\u001b[22m\u001b[39m … \u001b[35mmax\u001b[39m\u001b[90m):  \u001b[39m\u001b[36m\u001b[1m1.454 μs\u001b[22m\u001b[39m … \u001b[35m  5.509 μs\u001b[39m  \u001b[90m┊\u001b[39m GC \u001b[90m(\u001b[39mmin … max\u001b[90m): \u001b[39m0.00% … 0.00%\n",
       " Time  \u001b[90m(\u001b[39m\u001b[34m\u001b[1mmedian\u001b[22m\u001b[39m\u001b[90m):     \u001b[39m\u001b[34m\u001b[1m1.545 μs               \u001b[22m\u001b[39m\u001b[90m┊\u001b[39m GC \u001b[90m(\u001b[39mmedian\u001b[90m):    \u001b[39m0.00%\n",
       " Time  \u001b[90m(\u001b[39m\u001b[32m\u001b[1mmean\u001b[22m\u001b[39m ± \u001b[32mσ\u001b[39m\u001b[90m):   \u001b[39m\u001b[32m\u001b[1m1.580 μs\u001b[22m\u001b[39m ± \u001b[32m286.345 ns\u001b[39m  \u001b[90m┊\u001b[39m GC \u001b[90m(\u001b[39mmean ± σ\u001b[90m):  \u001b[39m0.00% ± 0.00%\n",
       "\n",
       "  \u001b[39m \u001b[39m▃\u001b[39m▂\u001b[34m█\u001b[39m\u001b[32m▁\u001b[39m\u001b[39m \u001b[39m \u001b[39m \u001b[39m \u001b[39m \u001b[39m \u001b[39m \u001b[39m \u001b[39m \u001b[39m \u001b[39m \u001b[39m \u001b[39m \u001b[39m \u001b[39m \u001b[39m \u001b[39m \u001b[39m \u001b[39m \u001b[39m \u001b[39m \u001b[39m \u001b[39m \u001b[39m \u001b[39m \u001b[39m \u001b[39m \u001b[39m \u001b[39m \u001b[39m \u001b[39m \u001b[39m \u001b[39m \u001b[39m \u001b[39m \u001b[39m \u001b[39m \u001b[39m \u001b[39m \u001b[39m \u001b[39m \u001b[39m \u001b[39m \u001b[39m \u001b[39m \u001b[39m \u001b[39m \u001b[39m \u001b[39m \u001b[39m \u001b[39m \u001b[39m \u001b[39m \u001b[39m \u001b[39m \u001b[39m \n",
       "  \u001b[39m▆\u001b[39m█\u001b[39m█\u001b[34m█\u001b[39m\u001b[32m█\u001b[39m\u001b[39m▄\u001b[39m▂\u001b[39m▂\u001b[39m▂\u001b[39m▂\u001b[39m▂\u001b[39m▂\u001b[39m▂\u001b[39m▂\u001b[39m▁\u001b[39m▂\u001b[39m▂\u001b[39m▁\u001b[39m▁\u001b[39m▁\u001b[39m▁\u001b[39m▁\u001b[39m▁\u001b[39m▁\u001b[39m▁\u001b[39m▁\u001b[39m▁\u001b[39m▁\u001b[39m▁\u001b[39m▁\u001b[39m▁\u001b[39m▁\u001b[39m▁\u001b[39m▁\u001b[39m▁\u001b[39m▁\u001b[39m▂\u001b[39m▁\u001b[39m▁\u001b[39m▁\u001b[39m▁\u001b[39m▁\u001b[39m▁\u001b[39m▁\u001b[39m▁\u001b[39m▂\u001b[39m▂\u001b[39m▂\u001b[39m▂\u001b[39m▂\u001b[39m▂\u001b[39m▂\u001b[39m▂\u001b[39m▂\u001b[39m▂\u001b[39m▂\u001b[39m▂\u001b[39m▂\u001b[39m▂\u001b[39m \u001b[39m▂\n",
       "  1.45 μs\u001b[90m         Histogram: frequency by time\u001b[39m        3.14 μs \u001b[0m\u001b[1m<\u001b[22m\n",
       "\n",
       " Memory estimate\u001b[90m: \u001b[39m\u001b[33m80 bytes\u001b[39m, allocs estimate\u001b[90m: \u001b[39m\u001b[33m3\u001b[39m."
      ]
     },
     "execution_count": 29,
     "metadata": {},
     "output_type": "execute_result"
    }
   ],
   "source": [
    "moveArrays!(mpasOcean, Array)\n",
    "mpasOcean.sshCurrent[:] = initialSSH[:]\n",
    "mpasOcean.normalVelocityCurrent[:] = initialNormalVelocity[:]\n",
    "cpubench = @benchmark update_normal_velocity_by_tendency!(mpasOcean)"
   ]
  },
  {
   "cell_type": "code",
   "execution_count": 30,
   "id": "68e9e39b-6921-454d-ad58-faa34113c02f",
   "metadata": {},
   "outputs": [
    {
     "data": {
      "text/plain": [
       "\"CUDA kernel evaluation is 0.44711592195483957 times faster than the CPU evaluation on average\""
      ]
     },
     "execution_count": 30,
     "metadata": {},
     "output_type": "execute_result"
    }
   ],
   "source": [
    "\"CUDA kernel evaluation is $((sum(cpubench.times)/length(cpubench.times)) / (sum(gpubench.times)/length(gpubench.times))) times faster than the CPU evaluation on average\""
   ]
  },
  {
   "cell_type": "markdown",
   "id": "86a55a48-c1ce-45bd-b47e-6d8ea9149071",
   "metadata": {},
   "source": [
    "### update ssh"
   ]
  },
  {
   "cell_type": "code",
   "execution_count": 31,
   "id": "c42e6776-2fb3-40d2-ab97-bdbfbb2042cb",
   "metadata": {},
   "outputs": [
    {
     "data": {
      "text/plain": [
       "BechmarkTools.Trial: 10000 samples with 8 evaluations.\n",
       " Range \u001b[90m(\u001b[39m\u001b[36m\u001b[1mmin\u001b[22m\u001b[39m … \u001b[35mmax\u001b[39m\u001b[90m):  \u001b[39m\u001b[36m\u001b[1m3.021 μs\u001b[22m\u001b[39m … \u001b[35m729.140 μs\u001b[39m  \u001b[90m┊\u001b[39m GC \u001b[90m(\u001b[39mmin … max\u001b[90m): \u001b[39m0.00% … 99.33%\n",
       " Time  \u001b[90m(\u001b[39m\u001b[34m\u001b[1mmedian\u001b[22m\u001b[39m\u001b[90m):     \u001b[39m\u001b[34m\u001b[1m3.220 μs               \u001b[22m\u001b[39m\u001b[90m┊\u001b[39m GC \u001b[90m(\u001b[39mmedian\u001b[90m):    \u001b[39m0.00%\n",
       " Time  \u001b[90m(\u001b[39m\u001b[32m\u001b[1mmean\u001b[22m\u001b[39m ± \u001b[32mσ\u001b[39m\u001b[90m):   \u001b[39m\u001b[32m\u001b[1m3.348 μs\u001b[22m\u001b[39m ± \u001b[32m  7.266 μs\u001b[39m  \u001b[90m┊\u001b[39m GC \u001b[90m(\u001b[39mmean ± σ\u001b[90m):  \u001b[39m2.16% ±  0.99%\n",
       "\n",
       "  \u001b[39m \u001b[39m \u001b[39m \u001b[39m▃\u001b[39m█\u001b[39m█\u001b[34m▆\u001b[39m\u001b[32m▄\u001b[39m\u001b[39m▁\u001b[39m \u001b[39m \u001b[39m \u001b[39m \u001b[39m \u001b[39m \u001b[39m \u001b[39m \u001b[39m \u001b[39m \u001b[39m \u001b[39m \u001b[39m \u001b[39m \u001b[39m \u001b[39m \u001b[39m \u001b[39m \u001b[39m \u001b[39m \u001b[39m \u001b[39m \u001b[39m \u001b[39m \u001b[39m \u001b[39m \u001b[39m \u001b[39m \u001b[39m \u001b[39m \u001b[39m \u001b[39m \u001b[39m \u001b[39m \u001b[39m \u001b[39m \u001b[39m \u001b[39m \u001b[39m \u001b[39m \u001b[39m \u001b[39m \u001b[39m \u001b[39m \u001b[39m \u001b[39m \u001b[39m \u001b[39m \u001b[39m \u001b[39m \u001b[39m \u001b[39m \n",
       "  \u001b[39m▂\u001b[39m▃\u001b[39m▆\u001b[39m█\u001b[39m█\u001b[39m█\u001b[34m█\u001b[39m\u001b[32m█\u001b[39m\u001b[39m█\u001b[39m▆\u001b[39m▄\u001b[39m▄\u001b[39m▄\u001b[39m▃\u001b[39m▃\u001b[39m▃\u001b[39m▃\u001b[39m▂\u001b[39m▂\u001b[39m▂\u001b[39m▂\u001b[39m▂\u001b[39m▂\u001b[39m▂\u001b[39m▂\u001b[39m▂\u001b[39m▂\u001b[39m▂\u001b[39m▂\u001b[39m▂\u001b[39m▂\u001b[39m▁\u001b[39m▁\u001b[39m▂\u001b[39m▂\u001b[39m▁\u001b[39m▁\u001b[39m▁\u001b[39m▁\u001b[39m▁\u001b[39m▁\u001b[39m▁\u001b[39m▁\u001b[39m▁\u001b[39m▁\u001b[39m▁\u001b[39m▁\u001b[39m▁\u001b[39m▁\u001b[39m▁\u001b[39m▂\u001b[39m▂\u001b[39m▂\u001b[39m▂\u001b[39m▂\u001b[39m▂\u001b[39m▂\u001b[39m▂\u001b[39m▂\u001b[39m \u001b[39m▃\n",
       "  320 μs\u001b[90m          Histogram: frequency by time\u001b[39m        4.94 μs \u001b[0m\u001b[1m<\u001b[22m\n",
       "\n",
       " Memory estimate\u001b[90m: \u001b[39m\u001b[33m1.39 KiB\u001b[39m, allocs estimate\u001b[90m: \u001b[39m\u001b[33m33\u001b[39m."
      ]
     },
     "execution_count": 31,
     "metadata": {},
     "output_type": "execute_result"
    }
   ],
   "source": [
    "mpasOcean.sshCurrent[:] = initialSSH[:]\n",
    "mpasOcean.normalVelocityCurrent[:] = initialNormalVelocity[:]\n",
    "moveArrays!(mpasOcean, CUDA.CuArray)\n",
    "gpubench = @benchmark update_ssh_by_tendency_cuda!(mpasOcean)"
   ]
  },
  {
   "cell_type": "code",
   "execution_count": 32,
   "id": "7cc917e9-a5e6-4475-98f9-0e2f07428d95",
   "metadata": {},
   "outputs": [
    {
     "data": {
      "text/plain": [
       "BechmarkTools.Trial: 10000 samples with 162 evaluations.\n",
       " Range \u001b[90m(\u001b[39m\u001b[36m\u001b[1mmin\u001b[22m\u001b[39m … \u001b[35mmax\u001b[39m\u001b[90m):  \u001b[39m\u001b[36m\u001b[1m664.253 ns\u001b[22m\u001b[39m … \u001b[35m 27.238 μs\u001b[39m  \u001b[90m┊\u001b[39m GC \u001b[90m(\u001b[39mmin … max\u001b[90m): \u001b[39m0.00% … 97.05%\n",
       " Time  \u001b[90m(\u001b[39m\u001b[34m\u001b[1mmedian\u001b[22m\u001b[39m\u001b[90m):     \u001b[39m\u001b[34m\u001b[1m713.883 ns               \u001b[22m\u001b[39m\u001b[90m┊\u001b[39m GC \u001b[90m(\u001b[39mmedian\u001b[90m):    \u001b[39m0.00%\n",
       " Time  \u001b[90m(\u001b[39m\u001b[32m\u001b[1mmean\u001b[22m\u001b[39m ± \u001b[32mσ\u001b[39m\u001b[90m):   \u001b[39m\u001b[32m\u001b[1m722.487 ns\u001b[22m\u001b[39m ± \u001b[32m371.018 ns\u001b[39m  \u001b[90m┊\u001b[39m GC \u001b[90m(\u001b[39mmean ± σ\u001b[90m):  \u001b[39m0.72% ±  1.37%\n",
       "\n",
       "  \u001b[39m \u001b[39m \u001b[39m \u001b[39m \u001b[39m \u001b[39m \u001b[39m \u001b[39m \u001b[39m \u001b[39m▁\u001b[39m▂\u001b[39m▃\u001b[39m▄\u001b[39m█\u001b[34m▇\u001b[39m\u001b[39m▃\u001b[39m▂\u001b[39m▁\u001b[39m \u001b[39m \u001b[39m \u001b[39m \u001b[39m \u001b[39m \u001b[39m \u001b[39m \u001b[39m \u001b[39m \u001b[39m \u001b[39m \u001b[39m \u001b[39m \u001b[39m \u001b[39m \u001b[39m \u001b[39m \u001b[39m \u001b[39m \u001b[39m \u001b[39m \u001b[39m \u001b[39m \u001b[39m \u001b[39m \u001b[39m \u001b[39m \u001b[39m \u001b[39m \u001b[39m \u001b[39m \u001b[39m \u001b[39m \u001b[39m \u001b[39m \u001b[39m \u001b[39m \u001b[39m \u001b[39m \u001b[39m \u001b[39m \u001b[39m \u001b[39m \u001b[39m \n",
       "  \u001b[39m▂\u001b[39m▂\u001b[39m▃\u001b[39m▄\u001b[39m▄\u001b[39m▆\u001b[39m█\u001b[39m▇\u001b[39m▇\u001b[39m█\u001b[39m█\u001b[39m█\u001b[39m█\u001b[39m█\u001b[34m█\u001b[39m\u001b[39m█\u001b[39m█\u001b[39m█\u001b[39m▇\u001b[39m▇\u001b[39m▆\u001b[39m▅\u001b[39m▄\u001b[39m▄\u001b[39m▃\u001b[39m▂\u001b[39m▂\u001b[39m▂\u001b[39m▂\u001b[39m▂\u001b[39m▂\u001b[39m▂\u001b[39m▂\u001b[39m▂\u001b[39m▂\u001b[39m▂\u001b[39m▂\u001b[39m▂\u001b[39m▂\u001b[39m▂\u001b[39m▂\u001b[39m▂\u001b[39m▂\u001b[39m▂\u001b[39m▂\u001b[39m▂\u001b[39m▂\u001b[39m▂\u001b[39m▁\u001b[39m▁\u001b[39m▂\u001b[39m▂\u001b[39m▂\u001b[39m▂\u001b[39m▂\u001b[39m▂\u001b[39m▂\u001b[39m▂\u001b[39m▂\u001b[39m▂\u001b[39m▂\u001b[39m \u001b[39m▃\n",
       "  664 ns\u001b[90m           Histogram: frequency by time\u001b[39m          885 ns \u001b[0m\u001b[1m<\u001b[22m\n",
       "\n",
       " Memory estimate\u001b[90m: \u001b[39m\u001b[33m80 bytes\u001b[39m, allocs estimate\u001b[90m: \u001b[39m\u001b[33m3\u001b[39m."
      ]
     },
     "execution_count": 32,
     "metadata": {},
     "output_type": "execute_result"
    }
   ],
   "source": [
    "moveArrays!(mpasOcean, Array)\n",
    "mpasOcean.sshCurrent[:] = initialSSH[:]\n",
    "mpasOcean.normalVelocityCurrent[:] = initialNormalVelocity[:]\n",
    "cpubench = @benchmark update_ssh_by_tendency!(mpasOcean)"
   ]
  },
  {
   "cell_type": "code",
   "execution_count": 33,
   "id": "d4921538-2d22-4cbe-9442-258d520e4ce5",
   "metadata": {},
   "outputs": [
    {
     "data": {
      "text/plain": [
       "\"CUDA kernel evaluation is 0.21581601461375574 times faster than the CPU evaluation on average\""
      ]
     },
     "execution_count": 33,
     "metadata": {},
     "output_type": "execute_result"
    }
   ],
   "source": [
    "\"CUDA kernel evaluation is $((sum(cpubench.times)/length(cpubench.times)) / (sum(gpubench.times)/length(gpubench.times))) times faster than the CPU evaluation on average\""
   ]
  },
  {
   "cell_type": "markdown",
   "id": "f8c8dbfc-6b25-4fbe-81c7-b29d04eaf081",
   "metadata": {},
   "source": [
    "the data copying step is actually 2 - 5 times slower than it is on the CPU! Memory is the bottleneck of the GPU"
   ]
  },
  {
   "cell_type": "code",
   "execution_count": null,
   "id": "04f06cd7-24a4-4d30-b500-b994530833b4",
   "metadata": {},
   "outputs": [],
   "source": []
  },
  {
   "cell_type": "code",
   "execution_count": null,
   "id": "d446e838-6b4e-4a99-a02d-a066d84233ef",
   "metadata": {},
   "outputs": [],
   "source": []
  }
 ],
 "metadata": {
  "kernelspec": {
   "display_name": "Julia 1.6.1",
   "language": "julia",
   "name": "julia-1.6"
  },
  "language_info": {
   "file_extension": ".jl",
   "mimetype": "application/julia",
   "name": "julia",
   "version": "1.6.1"
  }
 },
 "nbformat": 4,
 "nbformat_minor": 5
}
